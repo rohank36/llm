{
 "cells": [
  {
   "cell_type": "code",
   "execution_count": 2,
   "metadata": {},
   "outputs": [],
   "source": [
    "import numpy as np \n",
    "import pandas as pd\n",
    "import torch\n",
    "import tiktoken "
   ]
  },
  {
   "cell_type": "markdown",
   "metadata": {},
   "source": [
    "### Playing around with Pytorch"
   ]
  },
  {
   "cell_type": "code",
   "execution_count": null,
   "metadata": {},
   "outputs": [],
   "source": [
    "x = np.array([[1,2,3]])\n",
    "print(x.shape)\n",
    "x"
   ]
  },
  {
   "cell_type": "code",
   "execution_count": null,
   "metadata": {},
   "outputs": [],
   "source": [
    "y = np.array([[1],[2],[3]])\n",
    "print(y.shape)\n",
    "y"
   ]
  },
  {
   "cell_type": "code",
   "execution_count": null,
   "metadata": {},
   "outputs": [],
   "source": [
    "x + y"
   ]
  },
  {
   "cell_type": "code",
   "execution_count": null,
   "metadata": {},
   "outputs": [],
   "source": [
    "torch.__version__"
   ]
  },
  {
   "cell_type": "code",
   "execution_count": null,
   "metadata": {},
   "outputs": [],
   "source": [
    "torch.cuda.is_available()"
   ]
  },
  {
   "cell_type": "code",
   "execution_count": null,
   "metadata": {},
   "outputs": [],
   "source": [
    "# create a 0D tensor (scalar) from a Python integer\n",
    "tensor0d = torch.tensor(1)\n",
    "\n",
    "# create a 1D tensor (vector) from a Python list\n",
    "tensor1d = torch.tensor([1, 2, 3])\n",
    "\n",
    "# create a 2D tensor from a nested Python list\n",
    "tensor2d = torch.tensor([[1, 2, 3], [4, 5, 6]])\n",
    "\n",
    "# create a 3D tensor from a nested Python list\n",
    "tensor3d = torch.tensor([[[1, 2], [3, 4]], [[5, 6], [7, 8]]])"
   ]
  },
  {
   "cell_type": "code",
   "execution_count": null,
   "metadata": {},
   "outputs": [],
   "source": [
    "tensor2d"
   ]
  },
  {
   "cell_type": "code",
   "execution_count": null,
   "metadata": {},
   "outputs": [],
   "source": [
    "tensor2d.T"
   ]
  },
  {
   "cell_type": "code",
   "execution_count": null,
   "metadata": {},
   "outputs": [],
   "source": [
    "import torch.nn.functional as F\n",
    "from torch.autograd import grad\n",
    "\n",
    "y = torch.tensor([1.0])\n",
    "x1 = torch.tensor([1.1])\n",
    "w1 = torch.tensor([2.2], requires_grad=True)\n",
    "b = torch.tensor([0.0], requires_grad=True)\n",
    "\n",
    "z = x1 * w1 + b\n",
    "a = torch.sigmoid(z)\n",
    "\n",
    "loss = F.binary_cross_entropy(a, y)\n",
    "\n",
    "loss.backward()\n",
    "\n",
    "print(w1.grad)\n",
    "print(b.grad)"
   ]
  },
  {
   "cell_type": "code",
   "execution_count": null,
   "metadata": {},
   "outputs": [],
   "source": [
    "class NeuralNetwork(torch.nn.Module):\n",
    "    def __init__(self, num_inputs, num_outputs):\n",
    "        super().__init__()\n",
    "\n",
    "        self.layers = torch.nn.Sequential(\n",
    "\n",
    "            # 1st hidden layer\n",
    "            torch.nn.Linear(num_inputs, 30),\n",
    "            torch.nn.ReLU(),\n",
    "\n",
    "            # 2nd hidden layer\n",
    "            torch.nn.Linear(30, 20),\n",
    "            torch.nn.ReLU(),\n",
    "\n",
    "            # output layer\n",
    "            torch.nn.Linear(20, num_outputs),\n",
    "        )\n",
    "\n",
    "    def forward(self, x):\n",
    "        logits = self.layers(x)\n",
    "        return logits"
   ]
  },
  {
   "cell_type": "code",
   "execution_count": null,
   "metadata": {},
   "outputs": [],
   "source": [
    "torch.manual_seed(123)\n",
    "model = NeuralNetwork(50, 3)\n",
    "print(model)\n",
    "num_params = sum(\n",
    "    p.numel() for p in model.parameters() if p.requires_grad\n",
    ")\n",
    "print(\"Total number of trainable model parameters:\", num_params)"
   ]
  },
  {
   "cell_type": "code",
   "execution_count": null,
   "metadata": {},
   "outputs": [],
   "source": [
    "model.layers[0].weight"
   ]
  },
  {
   "cell_type": "code",
   "execution_count": null,
   "metadata": {},
   "outputs": [],
   "source": [
    "print(model.layers[0].weight.shape)"
   ]
  },
  {
   "cell_type": "code",
   "execution_count": null,
   "metadata": {},
   "outputs": [],
   "source": [
    "torch.manual_seed(123)\n",
    "\n",
    "X = torch.rand((1, 50))\n",
    "with torch.no_grad():\n",
    "    out = model(X)\n",
    "print(out)"
   ]
  },
  {
   "cell_type": "code",
   "execution_count": null,
   "metadata": {},
   "outputs": [],
   "source": [
    "X_train = torch.tensor([\n",
    "    [-1.2, 3.1],\n",
    "    [-0.9, 2.9],\n",
    "    [-0.5, 2.6],\n",
    "    [2.3, -1.1],\n",
    "    [2.7, -1.5]\n",
    "])\n",
    "\n",
    "y_train = torch.tensor([0, 0, 0, 1, 1])\n",
    "\n",
    "X_test = torch.tensor([\n",
    "    [-0.8, 2.8],\n",
    "    [2.6, -1.6],\n",
    "])\n",
    "\n",
    "y_test = torch.tensor([0, 1])"
   ]
  },
  {
   "cell_type": "code",
   "execution_count": null,
   "metadata": {},
   "outputs": [],
   "source": [
    "from torch.utils.data import Dataset\n",
    "\n",
    "\n",
    "class ToyDataset(Dataset):\n",
    "    def __init__(self, X, y):\n",
    "        self.features = X\n",
    "        self.labels = y\n",
    "\n",
    "    def __getitem__(self, index):\n",
    "        one_x = self.features[index]\n",
    "        one_y = self.labels[index]\n",
    "        return one_x, one_y\n",
    "\n",
    "    def __len__(self):\n",
    "        return self.labels.shape[0]\n",
    "\n",
    "\n",
    "train_ds = ToyDataset(X_train, y_train)\n",
    "test_ds = ToyDataset(X_test, y_test)"
   ]
  },
  {
   "cell_type": "code",
   "execution_count": null,
   "metadata": {},
   "outputs": [],
   "source": [
    "from torch.utils.data import DataLoader\n",
    "\n",
    "torch.manual_seed(123)\n",
    "\n",
    "train_loader = DataLoader(\n",
    "    dataset=train_ds,\n",
    "    batch_size=2,\n",
    "    shuffle=True,\n",
    "    num_workers=0,\n",
    "    drop_last=True\n",
    ")\n",
    "\n",
    "test_loader = DataLoader(\n",
    "    dataset=test_ds,\n",
    "    batch_size=2,\n",
    "    shuffle=False,\n",
    "    num_workers=0,\n",
    "    drop_last=True\n",
    ")\n",
    "\n",
    "for idx, (x, y) in enumerate(train_loader):\n",
    "    print(f\"Batch {idx+1}:\", x, y)"
   ]
  },
  {
   "cell_type": "code",
   "execution_count": null,
   "metadata": {},
   "outputs": [],
   "source": [
    "torch.manual_seed(123)\n",
    "model = NeuralNetwork(num_inputs=2,num_outputs=2)\n",
    "\n",
    "#device = torch.device('cuda')\n",
    "device = torch.device(\"cuda\" if torch.cuda.is_available() else \"cpu\") # considered pytorch best practice\n",
    "model.to(device)\n",
    "\n",
    "optimizer = torch.optim.SGD(model.parameters(),lr=0.5)\n",
    "epochs = 3\n",
    "\n",
    "for epoch in range(epochs):\n",
    "\n",
    "    model.train()\n",
    "\n",
    "    for batch_idx, (features,labels) in enumerate(train_loader):\n",
    "        features,labels = features.to(device), labels.to(device)\n",
    "\n",
    "        logits = model(features)\n",
    "        loss = F.cross_entropy(logits,labels)\n",
    "        \n",
    "        optimizer.zero_grad()\n",
    "        loss.backward()\n",
    "        optimizer.step()\n",
    "\n",
    "        print(f\"Epoch: {epoch+1:03d}/{epochs:03d}\" f\" | Batch {batch_idx:03d}/{len(train_loader):03d}\" f\" | Train/Val Loss: {loss:.2f}\")\n",
    "      \n",
    "    model.eval()"
   ]
  },
  {
   "cell_type": "code",
   "execution_count": null,
   "metadata": {},
   "outputs": [],
   "source": [
    "# can make predictions\n",
    "model.eval()\n",
    "with torch.no_grad():\n",
    "    outputs = model(X_train) # logits\n",
    "print(outputs)\n",
    "\n",
    "torch.set_printoptions(sci_mode=False) \n",
    "probs = torch.softmax(outputs,dim=1) # class probas\n",
    "print(probs)\n",
    "\n",
    "preds = torch.argmax(probs,dim=1) # convert probas to class preds\n",
    "print(preds)\n",
    " \n",
    "preds = torch.argmax(outputs,dim=1) # could also get preds direct from logits\n",
    "print(preds)"
   ]
  },
  {
   "cell_type": "code",
   "execution_count": null,
   "metadata": {},
   "outputs": [],
   "source": [
    "(torch.sum(preds == y_train) / len(y_train))*100 # acc"
   ]
  },
  {
   "cell_type": "code",
   "execution_count": null,
   "metadata": {},
   "outputs": [],
   "source": [
    "for key in model.state_dict(): \n",
    "    print(key)"
   ]
  },
  {
   "cell_type": "code",
   "execution_count": null,
   "metadata": {},
   "outputs": [],
   "source": [
    "torch.save(model.state_dict(),\"model_test.pth\")"
   ]
  },
  {
   "cell_type": "code",
   "execution_count": null,
   "metadata": {},
   "outputs": [],
   "source": [
    "model = NeuralNetwork(2,2)\n",
    "model.load_state_dict(torch.load(\"model_test.pth\", weights_only=True))"
   ]
  },
  {
   "cell_type": "code",
   "execution_count": null,
   "metadata": {},
   "outputs": [],
   "source": [
    "#model = MyTransformerDecoderModel(...)\n",
    "#model = model.half().cuda()  # Use float16 to save VRAM\n",
    "\n",
    "# Check memory usage\n",
    "#print(torch.cuda.memory_allocated() / 1024 ** 2, \"MB allocated\")"
   ]
  },
  {
   "cell_type": "code",
   "execution_count": null,
   "metadata": {},
   "outputs": [],
   "source": [
    "x = torch.randn(2,2,3)\n",
    "y = torch.randn(2,2,3)\n",
    "y = y.view()\n",
    "print(x)\n",
    "print(x.shape)\n",
    "print(\"\")\n",
    "print(y)\n",
    "print(y.shape)"
   ]
  },
  {
   "cell_type": "code",
   "execution_count": null,
   "metadata": {},
   "outputs": [],
   "source": [
    "enc = tiktoken.get_encoding(\"gpt2\")\n",
    "vocab_size = enc.n_vocab\n",
    "print(f\"Vocab size: {vocab_size}\")\n",
    "es = enc.encode(\"Hello, Marcus Aurelius.\")\n",
    "print(es)\n",
    "ds = enc.decode(es)\n",
    "print(ds)"
   ]
  },
  {
   "cell_type": "code",
   "execution_count": 22,
   "metadata": {},
   "outputs": [
    {
     "data": {
      "text/plain": [
       "tensor([[[0.3603, 0.3144, 0.1700, 0.1553],\n",
       "         [0.0653, 0.1383, 0.1937, 0.6027]]])"
      ]
     },
     "execution_count": 22,
     "metadata": {},
     "output_type": "execute_result"
    }
   ],
   "source": [
    "x = torch.randn(1,2,4)\n",
    "#x = torch.randn(10,123,132)"
   ]
  },
  {
   "cell_type": "code",
   "execution_count": 25,
   "metadata": {},
   "outputs": [
    {
     "data": {
      "text/plain": [
       "tensor([[[0],\n",
       "         [3]]])"
      ]
     },
     "execution_count": 25,
     "metadata": {},
     "output_type": "execute_result"
    }
   ],
   "source": [
    "torch.argmax(x,-1,True)"
   ]
  },
  {
   "cell_type": "code",
   "execution_count": 27,
   "metadata": {},
   "outputs": [
    {
     "data": {
      "text/plain": [
       "tensor([[[-0.1727],\n",
       "         [ 1.2632]]])"
      ]
     },
     "execution_count": 27,
     "metadata": {},
     "output_type": "execute_result"
    }
   ],
   "source": [
    "target  = torch.randn(1,2,1)\n",
    "target"
   ]
  },
  {
   "cell_type": "code",
   "execution_count": 28,
   "metadata": {},
   "outputs": [
    {
     "data": {
      "text/plain": [
       "tensor([[ 0.9615,  0.8252,  0.2104,  0.1198],\n",
       "        [-1.1032, -0.3533, -0.0164,  1.1190]])"
      ]
     },
     "execution_count": 28,
     "metadata": {},
     "output_type": "execute_result"
    }
   ],
   "source": [
    "x.view(-1,4)"
   ]
  },
  {
   "cell_type": "markdown",
   "metadata": {},
   "source": [
    "### Tokenizer/Input Batching"
   ]
  },
  {
   "cell_type": "code",
   "execution_count": 31,
   "metadata": {},
   "outputs": [],
   "source": [
    "with open('input.txt', 'r', encoding='utf-8') as f:\n",
    "    text = f.read()\n"
   ]
  },
  {
   "cell_type": "code",
   "execution_count": 33,
   "metadata": {},
   "outputs": [],
   "source": [
    "# use character level tokenizer so classification head param count stays small\n",
    "chars = sorted(list(set(text)))\n",
    "vocab_size = len(chars)\n",
    "\n",
    "# create a mapping from characters to integers\n",
    "stoi = { ch:i for i,ch in enumerate(chars) }\n",
    "itos = { i:ch for i,ch in enumerate(chars) }\n",
    "\n",
    "encode = lambda s: [stoi[c] for c in s] # encoder: take a string, output a list of integers\n",
    "decode = lambda l: ''.join([itos[i] for i in l]) # decoder: take a list of integers, output a string"
   ]
  },
  {
   "cell_type": "code",
   "execution_count": 36,
   "metadata": {},
   "outputs": [],
   "source": [
    "# Train and test splits\n",
    "data = torch.tensor(encode(text), dtype=torch.long)\n",
    "n = int(0.9*len(data)) # first 90% will be train, rest val\n",
    "train_data = data[:n]\n",
    "val_data = data[n:]"
   ]
  },
  {
   "cell_type": "code",
   "execution_count": 38,
   "metadata": {},
   "outputs": [
    {
     "data": {
      "text/plain": [
       "(1115394, 1003854, 111540)"
      ]
     },
     "execution_count": 38,
     "metadata": {},
     "output_type": "execute_result"
    }
   ],
   "source": [
    "len(data),len(train_data),len(val_data) # trained on about 1 mil tokens"
   ]
  },
  {
   "cell_type": "code",
   "execution_count": 41,
   "metadata": {},
   "outputs": [],
   "source": [
    "B = 64 # batch size\n",
    "T = 256 # sequence length i.e. chunk size\n",
    "\n",
    "# data loading\n",
    "def get_batch(split):\n",
    "    # generate a small batch of data of inputs x and targets y\n",
    "    data = train_data if split == 'train' else val_data\n",
    "    ix = torch.randint(len(data) - T, (B,))\n",
    "    x = torch.stack([data[i:i+T] for i in ix])\n",
    "    y = torch.stack([data[i+1:i+T+1] for i in ix])\n",
    "    #x, y = x.to(device), y.to(device)\n",
    "    return x, y"
   ]
  },
  {
   "cell_type": "code",
   "execution_count": 58,
   "metadata": {},
   "outputs": [
    {
     "data": {
      "text/plain": [
       "\", thou art death's fool;\\nFor him thou labour'st by thy flight to shun\\nAnd yet runn'st toward him still. Thou art not noble;\\nFor all the accommodations that thou bear'st\\nAre nursed by baseness. Thou'rt by no means valiant;\\nFor thou dost fear the soft and te\""
      ]
     },
     "execution_count": 58,
     "metadata": {},
     "output_type": "execute_result"
    }
   ],
   "source": [
    "decode(data[895115:895115+T].tolist())"
   ]
  },
  {
   "cell_type": "code",
   "execution_count": 59,
   "metadata": {},
   "outputs": [
    {
     "data": {
      "text/plain": [
       "\" thou art death's fool;\\nFor him thou labour'st by thy flight to shun\\nAnd yet runn'st toward him still. Thou art not noble;\\nFor all the accommodations that thou bear'st\\nAre nursed by baseness. Thou'rt by no means valiant;\\nFor thou dost fear the soft and ten\""
      ]
     },
     "execution_count": 59,
     "metadata": {},
     "output_type": "execute_result"
    }
   ],
   "source": [
    "decode(data[895115+1:895115+T+1].tolist())"
   ]
  },
  {
   "cell_type": "code",
   "execution_count": 60,
   "metadata": {},
   "outputs": [
    {
     "data": {
      "text/plain": [
       "'\\n'"
      ]
     },
     "execution_count": 60,
     "metadata": {},
     "output_type": "execute_result"
    }
   ],
   "source": [
    "decode([0]) # \"start\" char"
   ]
  },
  {
   "cell_type": "code",
   "execution_count": 49,
   "metadata": {},
   "outputs": [
    {
     "data": {
      "text/plain": [
       "tensor([ 895115,  246623,  938882,   78427,  129300,  238216,  398633,  837676,\n",
       "         350772,  533631,  138847,  761428,  715140,  290883,  164923,  145248,\n",
       "         119769,   57340,   54342,   47087,  482750,  824068,  632951,  513954,\n",
       "         503000,  303951,  876086,  103905,  770729,  401111,  226073,  173709,\n",
       "        1084658,  105248,  190882, 1012019, 1071803,   62116,  824877,  162736,\n",
       "        1053234,  132077,  167731,  321861,  462900,  215859,  928857,  956382,\n",
       "         317156,  556775,  982432,  820158,  610316, 1000956,  856303,  404046,\n",
       "         362151,  377803,  222158,  741610, 1023730,  463589,  769318,  807891])"
      ]
     },
     "execution_count": 49,
     "metadata": {},
     "output_type": "execute_result"
    }
   ],
   "source": [
    "ix = torch.randint(len(data) - T, (B,))\n",
    "ix"
   ]
  },
  {
   "cell_type": "code",
   "execution_count": 45,
   "metadata": {},
   "outputs": [
    {
     "name": "stdout",
     "output_type": "stream",
     "text": [
      "torch.Size([64, 256])\n",
      "torch.Size([64, 256])\n"
     ]
    },
    {
     "data": {
      "text/plain": [
       "tensor([39, 58, 11,  0, 24, 39, 57, 58,  1, 52, 47, 45, 46, 58,  1, 57, 46, 43,\n",
       "         1, 57, 50, 43, 54, 58,  1, 52, 53, 58,  6,  1, 52, 53, 56,  1, 58, 53,\n",
       "         7, 52, 47, 45, 46, 58,  1, 57, 46, 43,  1, 57, 46, 39, 50, 50,  1, 52,\n",
       "        53, 58, 11,  0, 13, 57,  1, 61, 47, 58, 46,  1, 58, 46, 43,  1, 51, 43,\n",
       "        39, 58,  6,  1, 57, 53, 51, 43,  1, 59, 52, 42, 43, 57, 43, 56, 60, 43,\n",
       "        42,  1, 44, 39, 59, 50, 58,  0, 21,  5, 50, 50,  1, 44, 47, 52, 42,  1,\n",
       "        39, 40, 53, 59, 58,  1, 58, 46, 43,  1, 51, 39, 49, 47, 52, 45,  1, 53,\n",
       "        44,  1, 58, 46, 43,  1, 40, 43, 42, 11,  0, 13, 52, 42,  1, 46, 43, 56,\n",
       "        43,  1, 21,  5, 50, 50,  1, 44, 50, 47, 52, 45,  1, 58, 46, 43,  1, 54,\n",
       "        47, 50, 50, 53, 61,  6,  1, 58, 46, 43, 56, 43,  1, 58, 46, 43,  1, 40,\n",
       "        53, 50, 57, 58, 43, 56,  6,  0, 32, 46, 47, 57,  1, 61, 39, 63,  1, 58,\n",
       "        46, 43,  1, 41, 53, 60, 43, 56, 50, 43, 58,  6,  1, 39, 52, 53, 58, 46,\n",
       "        43, 56,  1, 61, 39, 63,  1, 58, 46, 43,  1, 57, 46, 43, 43, 58, 57, 10,\n",
       "         0, 13, 63,  6,  1, 39, 52, 42,  1, 39, 51, 47, 42,  1, 58, 46, 47, 57,\n",
       "         1, 46, 59, 56])"
      ]
     },
     "execution_count": 45,
     "metadata": {},
     "output_type": "execute_result"
    }
   ],
   "source": [
    "x,y = get_batch('split')\n",
    "print(x.shape)\n",
    "print(y.shape)\n",
    "x[0]\n"
   ]
  },
  {
   "cell_type": "code",
   "execution_count": null,
   "metadata": {},
   "outputs": [
    {
     "name": "stdout",
     "output_type": "stream",
     "text": [
      "torch.Size([64, 2, 4])\n",
      "torch.Size([2, 4])\n"
     ]
    },
    {
     "data": {
      "text/plain": [
       "torch.Size([64, 2, 4])"
      ]
     },
     "execution_count": 69,
     "metadata": {},
     "output_type": "execute_result"
    }
   ],
   "source": [
    "T = 2\n",
    "d = 4\n",
    "\n",
    "idx,y = get_batch('train')\n",
    "\n",
    "token_embedding_table = torch.nn.Embedding(vocab_size, d)\n",
    "position_embedding_table = torch.nn.Embedding(T, d)\n",
    "tok_emb = token_embedding_table(idx) \n",
    "print(tok_emb.shape)\n",
    "pos_emb = position_embedding_table(torch.arange(T)) \n",
    "print(pos_emb.shape)\n",
    "x = tok_emb + pos_emb "
   ]
  },
  {
   "cell_type": "code",
   "execution_count": 77,
   "metadata": {},
   "outputs": [
    {
     "data": {
      "text/plain": [
       "tensor([0.1908, 0.9770, 0.0169, 0.3878])"
      ]
     },
     "execution_count": 77,
     "metadata": {},
     "output_type": "execute_result"
    }
   ],
   "source": [
    "target = torch.rand(2,2)\n",
    "target.view(2*2)"
   ]
  },
  {
   "cell_type": "code",
   "execution_count": 81,
   "metadata": {},
   "outputs": [
    {
     "name": "stdout",
     "output_type": "stream",
     "text": [
      "tensor(4.3657)\n",
      "tensor(5.3657)\n"
     ]
    }
   ],
   "source": [
    "logits = torch.randn(2*2,vocab_size)\n",
    "targets = torch.tensor([1, 5, 2, 8], dtype=torch.long)\n",
    "loss = torch.nn.functional.cross_entropy(logits,targets)\n",
    "print(loss)\n",
    "test = loss + 1\n",
    "print(test)"
   ]
  },
  {
   "cell_type": "code",
   "execution_count": 85,
   "metadata": {},
   "outputs": [
    {
     "data": {
      "text/plain": [
       "tensor([[ 0.8303, -1.4623,  1.1412,  0.4153,  0.4056,  0.1991,  0.6061,  1.2064,\n",
       "          0.3277,  0.3853,  0.0872, -0.8793,  2.1148, -0.9874, -0.1698,  0.3654,\n",
       "         -1.2701, -0.5737,  1.2273, -0.4307]])"
      ]
     },
     "execution_count": 85,
     "metadata": {},
     "output_type": "execute_result"
    }
   ],
   "source": [
    "idx = torch.randn(1,20)\n",
    "idx_cond = idx[:, -4:]\n",
    "idx\n"
   ]
  },
  {
   "cell_type": "code",
   "execution_count": 86,
   "metadata": {},
   "outputs": [
    {
     "data": {
      "text/plain": [
       "tensor([[-1.2701, -0.5737,  1.2273, -0.4307]])"
      ]
     },
     "execution_count": 86,
     "metadata": {},
     "output_type": "execute_result"
    }
   ],
   "source": [
    "idx_cond"
   ]
  },
  {
   "cell_type": "code",
   "execution_count": 99,
   "metadata": {},
   "outputs": [
    {
     "data": {
      "text/plain": [
       "tensor([[-2.7704, -0.7588,  0.7931,  0.2505, -0.7237,  0.4763,  0.7964, -0.7088,\n",
       "          0.6208,  1.4390, -0.9095,  0.8292,  0.3113,  1.7573,  0.8527, -1.2124,\n",
       "         -0.4216, -2.3137, -2.1009, -0.8603, -0.2827,  0.0386,  0.9446,  0.8405,\n",
       "         -0.7156, -0.8320, -0.4195,  1.9317,  0.1444, -0.0942,  0.0306, -1.4142,\n",
       "         -1.9662, -0.4524, -0.6699, -0.8746, -1.5584, -0.1668, -2.0009, -1.1509,\n",
       "          1.9669, -1.0551, -0.2072,  1.1079, -1.2416, -0.2138, -1.1885, -0.3012,\n",
       "          2.1223,  0.5674, -0.1366,  0.0326, -0.5144,  0.4885,  1.7874,  0.9961,\n",
       "         -0.7641, -0.9303,  1.1609,  0.0762,  0.4651,  0.4696,  0.1165,  2.7182,\n",
       "         -0.4730]])"
      ]
     },
     "execution_count": 99,
     "metadata": {},
     "output_type": "execute_result"
    }
   ],
   "source": [
    "logits = torch.randn(1,20,65)\n",
    "last_token_logits = logits[:,-1,:]\n",
    "last_token_logits"
   ]
  },
  {
   "cell_type": "code",
   "execution_count": 98,
   "metadata": {},
   "outputs": [
    {
     "data": {
      "text/plain": [
       "tensor([[0.0134, 0.0058, 0.0034, 0.0050, 0.0069, 0.0170, 0.0065, 0.0248, 0.0071,\n",
       "         0.0134, 0.0100, 0.0007, 0.0053, 0.0061, 0.0087, 0.0055, 0.0051, 0.0114,\n",
       "         0.0329, 0.0197, 0.0748, 0.0137, 0.0171, 0.1701, 0.0064, 0.0152, 0.0212,\n",
       "         0.0155, 0.0336, 0.0038, 0.0066, 0.0103, 0.0040, 0.0053, 0.0176, 0.0361,\n",
       "         0.0009, 0.0103, 0.0023, 0.0241, 0.0013, 0.0015, 0.0046, 0.0123, 0.0071,\n",
       "         0.0352, 0.0180, 0.0023, 0.0087, 0.0218, 0.0040, 0.0192, 0.0037, 0.0280,\n",
       "         0.0056, 0.0194, 0.0058, 0.0427, 0.0047, 0.0068, 0.0131, 0.0096, 0.0043,\n",
       "         0.0082, 0.0143]])"
      ]
     },
     "execution_count": 98,
     "metadata": {},
     "output_type": "execute_result"
    }
   ],
   "source": [
    "probs = torch.nn.functional.softmax(last_token_logits, dim=-1)\n",
    "probs"
   ]
  },
  {
   "cell_type": "code",
   "execution_count": 105,
   "metadata": {},
   "outputs": [
    {
     "name": "stdout",
     "output_type": "stream",
     "text": [
      "tensor([[23]])\n",
      "tensor([[[0.1701]]])\n"
     ]
    }
   ],
   "source": [
    "idx_next = torch.multinomial(probs, num_samples=1)\n",
    "print(idx_next)\n",
    "print(probs[:,idx_next])"
   ]
  },
  {
   "cell_type": "code",
   "execution_count": 106,
   "metadata": {},
   "outputs": [],
   "source": [
    "import datetime\n",
    "current_datetime = datetime.datetime.now()\n",
    "formatted_datetime = current_datetime.strftime(\"%Y-%m-%d_%H-%M-%S\") # format to 'YYYY-MM-DD_HH-MM-SS'\n",
    "file_name = f\"run_{formatted_datetime}.txt\"\n",
    "with open(file_name,'a') as f:\n",
    "    f.write('hello world')\n",
    "    f.write(\"im rohan\")"
   ]
  },
  {
   "cell_type": "markdown",
   "metadata": {},
   "source": [
    "### Multi-head tensor"
   ]
  },
  {
   "cell_type": "code",
   "execution_count": 163,
   "metadata": {},
   "outputs": [],
   "source": [
    "# optimal mha\n",
    "# no loops, one big matrix \n",
    "B = 1 # batch size\n",
    "T = 2 # sequence length\n",
    "d = 6 # emebedding dim \n",
    "hd = 4 # head dim, in practice it will be d // n_heads\n",
    "nh = 3 # num heads\n",
    "\n",
    "#X = torch.randint(low=1,high=9,size=(B,T,d))\n",
    "X = torch.randn((B,T,d))"
   ]
  },
  {
   "cell_type": "code",
   "execution_count": 164,
   "metadata": {},
   "outputs": [
    {
     "name": "stdout",
     "output_type": "stream",
     "text": [
      "torch.Size([1, 2, 36])\n"
     ]
    },
    {
     "data": {
      "text/plain": [
       "tensor([[[ 1.2574, -0.7846,  0.3936, -0.4341, -0.4179, -0.0458,  0.9877,\n",
       "           0.6893, -1.2998,  1.0285, -1.1518,  0.1981, -0.0403,  0.5824,\n",
       "          -0.5068,  0.7257, -1.0267, -0.7170, -0.2889, -0.6287,  1.2955,\n",
       "          -0.3769,  0.0822,  0.0309, -0.9782, -0.2365,  0.7350,  0.0412,\n",
       "          -0.0443,  0.0729,  0.6253, -0.7054, -0.4219,  0.2578, -0.0340,\n",
       "          -0.1279],\n",
       "         [-0.9109,  0.1081,  2.0885,  1.7801,  0.8272, -1.1501,  0.0533,\n",
       "          -0.1626,  0.5959,  0.3374, -0.9624, -0.5353, -0.3025,  0.6125,\n",
       "          -1.3391,  0.4416,  0.7332,  0.6736, -0.9303,  0.6824, -0.6639,\n",
       "          -1.2507, -0.9359, -0.6393,  0.1556,  1.6926, -1.0772,  0.6526,\n",
       "          -0.6809, -0.7154,  0.1486,  0.4977, -0.8210, -2.3055, -0.5277,\n",
       "           1.8408]]], grad_fn=<ViewBackward0>)"
      ]
     },
     "execution_count": 164,
     "metadata": {},
     "output_type": "execute_result"
    }
   ],
   "source": [
    "qkv_proj = torch.nn.Linear(d,nh*3*hd,bias=True)\n",
    "QKV = qkv_proj(X)\n",
    "print(QKV.shape)\n",
    "QKV # Batch -> Token -> QKV"
   ]
  },
  {
   "cell_type": "code",
   "execution_count": 165,
   "metadata": {},
   "outputs": [
    {
     "name": "stdout",
     "output_type": "stream",
     "text": [
      "torch.Size([1, 3, 2, 3, 4])\n"
     ]
    },
    {
     "data": {
      "text/plain": [
       "tensor([[[[[ 1.2574, -0.7846,  0.3936, -0.4341],\n",
       "           [-0.4179, -0.0458,  0.9877,  0.6893],\n",
       "           [-1.2998,  1.0285, -1.1518,  0.1981]],\n",
       "\n",
       "          [[-0.9109,  0.1081,  2.0885,  1.7801],\n",
       "           [ 0.8272, -1.1501,  0.0533, -0.1626],\n",
       "           [ 0.5959,  0.3374, -0.9624, -0.5353]]],\n",
       "\n",
       "\n",
       "         [[[-0.0403,  0.5824, -0.5068,  0.7257],\n",
       "           [-1.0267, -0.7170, -0.2889, -0.6287],\n",
       "           [ 1.2955, -0.3769,  0.0822,  0.0309]],\n",
       "\n",
       "          [[-0.3025,  0.6125, -1.3391,  0.4416],\n",
       "           [ 0.7332,  0.6736, -0.9303,  0.6824],\n",
       "           [-0.6639, -1.2507, -0.9359, -0.6393]]],\n",
       "\n",
       "\n",
       "         [[[-0.9782, -0.2365,  0.7350,  0.0412],\n",
       "           [-0.0443,  0.0729,  0.6253, -0.7054],\n",
       "           [-0.4219,  0.2578, -0.0340, -0.1279]],\n",
       "\n",
       "          [[ 0.1556,  1.6926, -1.0772,  0.6526],\n",
       "           [-0.6809, -0.7154,  0.1486,  0.4977],\n",
       "           [-0.8210, -2.3055, -0.5277,  1.8408]]]]], grad_fn=<CloneBackward0>)"
      ]
     },
     "execution_count": 165,
     "metadata": {},
     "output_type": "execute_result"
    }
   ],
   "source": [
    "qkv = QKV.view(B,T,nh,3,hd).permute(0,2,1,3,4).contiguous()\n",
    "print(qkv.shape)\n",
    "qkv # B, nh, T, 3, hd\n",
    "\n",
    "#Batch -> Head -> token -> QKV "
   ]
  },
  {
   "cell_type": "code",
   "execution_count": 166,
   "metadata": {},
   "outputs": [
    {
     "name": "stdout",
     "output_type": "stream",
     "text": [
      "torch.Size([1, 3, 2, 4])\n"
     ]
    },
    {
     "data": {
      "text/plain": [
       "tensor([[[[ 1.2574, -0.7846,  0.3936, -0.4341],\n",
       "          [-0.9109,  0.1081,  2.0885,  1.7801]],\n",
       "\n",
       "         [[-0.0403,  0.5824, -0.5068,  0.7257],\n",
       "          [-0.3025,  0.6125, -1.3391,  0.4416]],\n",
       "\n",
       "         [[-0.9782, -0.2365,  0.7350,  0.0412],\n",
       "          [ 0.1556,  1.6926, -1.0772,  0.6526]]]], grad_fn=<SliceBackward0>)"
      ]
     },
     "execution_count": 166,
     "metadata": {},
     "output_type": "execute_result"
    }
   ],
   "source": [
    "Q = qkv[:,:,:,0,:]\n",
    "print(Q.shape)\n",
    "Q"
   ]
  },
  {
   "cell_type": "code",
   "execution_count": 167,
   "metadata": {},
   "outputs": [
    {
     "name": "stdout",
     "output_type": "stream",
     "text": [
      "torch.Size([1, 3, 2, 4])\n"
     ]
    },
    {
     "data": {
      "text/plain": [
       "tensor([[[[-0.4179, -0.0458,  0.9877,  0.6893],\n",
       "          [ 0.8272, -1.1501,  0.0533, -0.1626]],\n",
       "\n",
       "         [[-1.0267, -0.7170, -0.2889, -0.6287],\n",
       "          [ 0.7332,  0.6736, -0.9303,  0.6824]],\n",
       "\n",
       "         [[-0.0443,  0.0729,  0.6253, -0.7054],\n",
       "          [-0.6809, -0.7154,  0.1486,  0.4977]]]], grad_fn=<SliceBackward0>)"
      ]
     },
     "execution_count": 167,
     "metadata": {},
     "output_type": "execute_result"
    }
   ],
   "source": [
    "K = qkv[:,:,:,1,:]\n",
    "print(K.shape)\n",
    "K"
   ]
  },
  {
   "cell_type": "code",
   "execution_count": 169,
   "metadata": {},
   "outputs": [
    {
     "name": "stdout",
     "output_type": "stream",
     "text": [
      "torch.Size([1, 3, 2, 4])\n"
     ]
    },
    {
     "data": {
      "text/plain": [
       "tensor([[[[-1.2998,  1.0285, -1.1518,  0.1981],\n",
       "          [ 0.5959,  0.3374, -0.9624, -0.5353]],\n",
       "\n",
       "         [[ 1.2955, -0.3769,  0.0822,  0.0309],\n",
       "          [-0.6639, -1.2507, -0.9359, -0.6393]],\n",
       "\n",
       "         [[-0.4219,  0.2578, -0.0340, -0.1279],\n",
       "          [-0.8210, -2.3055, -0.5277,  1.8408]]]], grad_fn=<SliceBackward0>)"
      ]
     },
     "execution_count": 169,
     "metadata": {},
     "output_type": "execute_result"
    }
   ],
   "source": [
    "V = qkv[:,:,:,2,:]\n",
    "print(V.shape)\n",
    "V"
   ]
  },
  {
   "cell_type": "code",
   "execution_count": 168,
   "metadata": {},
   "outputs": [
    {
     "name": "stdout",
     "output_type": "stream",
     "text": [
      "torch.Size([1, 3, 2, 2])\n"
     ]
    },
    {
     "data": {
      "text/plain": [
       "tensor([[[[-0.1633,  0.8304],\n",
       "          [ 1.4965, -0.4311]],\n",
       "\n",
       "         [[-0.2801,  0.5427],\n",
       "          [-0.0079,  0.7095]],\n",
       "\n",
       "         [[ 0.1864,  0.3939],\n",
       "          [-0.4154, -0.4704]]]], grad_fn=<DivBackward0>)"
      ]
     },
     "execution_count": 168,
     "metadata": {},
     "output_type": "execute_result"
    }
   ],
   "source": [
    "from math import sqrt\n",
    "AM = Q @ K.transpose(-2,-1) / sqrt(d)\n",
    "print(AM.shape)\n",
    "AM"
   ]
  },
  {
   "cell_type": "code",
   "execution_count": 171,
   "metadata": {},
   "outputs": [
    {
     "name": "stdout",
     "output_type": "stream",
     "text": [
      "torch.Size([1, 3, 2, 4])\n"
     ]
    },
    {
     "data": {
      "text/plain": [
       "tensor([[[[-1.2998,  1.0285, -1.1518,  0.1981],\n",
       "          [-1.0590,  0.9407, -1.1278,  0.1049]],\n",
       "\n",
       "         [[ 1.2955, -0.3769,  0.0822,  0.0309],\n",
       "          [-0.0213, -0.9642, -0.6020, -0.4195]],\n",
       "\n",
       "         [[-0.4219,  0.2578, -0.0340, -0.1279],\n",
       "          [-0.6160, -0.9886, -0.2740,  0.8294]]]],\n",
       "       grad_fn=<UnsafeViewBackward0>)"
      ]
     },
     "execution_count": 171,
     "metadata": {},
     "output_type": "execute_result"
    }
   ],
   "source": [
    "mask = torch.triu(torch.ones_like(AM),diagonal=1).bool()\n",
    "masked_AM = AM.masked_fill(mask,float('-inf')) # masking upper triangle for causal self attention\n",
    "attn_weights = torch.nn.functional.softmax(masked_AM,dim=-1) # softmax\n",
    "out = attn_weights @ V\n",
    "print(out.shape)\n",
    "out # B, nh, T, hd"
   ]
  },
  {
   "cell_type": "code",
   "execution_count": 173,
   "metadata": {},
   "outputs": [
    {
     "name": "stdout",
     "output_type": "stream",
     "text": [
      "torch.Size([1, 2, 3, 4])\n"
     ]
    },
    {
     "data": {
      "text/plain": [
       "tensor([[[[-1.2998,  1.0285, -1.1518,  0.1981],\n",
       "          [ 1.2955, -0.3769,  0.0822,  0.0309],\n",
       "          [-0.4219,  0.2578, -0.0340, -0.1279]],\n",
       "\n",
       "         [[-1.0590,  0.9407, -1.1278,  0.1049],\n",
       "          [-0.0213, -0.9642, -0.6020, -0.4195],\n",
       "          [-0.6160, -0.9886, -0.2740,  0.8294]]]], grad_fn=<CloneBackward0>)"
      ]
     },
     "execution_count": 173,
     "metadata": {},
     "output_type": "execute_result"
    }
   ],
   "source": [
    "out_permute  = out.permute(0,2,1,3).contiguous()\n",
    "#out_permute = out.permute(0,2,1,3) # [B,nh,T,hd] --> [B, T, nh, hd]\n",
    "if not out_permute.is_contiguous():\n",
    "    raise Exception('Permuted tensor is not contiguous...')\n",
    "print(out_permute.shape)\n",
    "out_permute"
   ]
  },
  {
   "cell_type": "code",
   "execution_count": 175,
   "metadata": {},
   "outputs": [
    {
     "name": "stdout",
     "output_type": "stream",
     "text": [
      "torch.Size([1, 2, 12])\n"
     ]
    },
    {
     "data": {
      "text/plain": [
       "tensor([[[-1.2998,  1.0285, -1.1518,  0.1981,  1.2955, -0.3769,  0.0822,\n",
       "           0.0309, -0.4219,  0.2578, -0.0340, -0.1279],\n",
       "         [-1.0590,  0.9407, -1.1278,  0.1049, -0.0213, -0.9642, -0.6020,\n",
       "          -0.4195, -0.6160, -0.9886, -0.2740,  0.8294]]],\n",
       "       grad_fn=<ViewBackward0>)"
      ]
     },
     "execution_count": 175,
     "metadata": {},
     "output_type": "execute_result"
    }
   ],
   "source": [
    "out_heads_concat = out_permute.view(B,T,nh*hd) \n",
    "print(out_heads_concat.shape)\n",
    "out_heads_concat"
   ]
  },
  {
   "cell_type": "markdown",
   "metadata": {},
   "source": [
    "### Playing around with view()"
   ]
  },
  {
   "cell_type": "markdown",
   "metadata": {},
   "source": [
    "simulate self attention calculation"
   ]
  },
  {
   "cell_type": "code",
   "execution_count": 177,
   "metadata": {},
   "outputs": [
    {
     "name": "stdout",
     "output_type": "stream",
     "text": [
      "torch.Size([1, 2, 36])\n"
     ]
    },
    {
     "data": {
      "text/plain": [
       "tensor([[[ 1,  2,  3,  4,  5,  6,  7,  8,  9, 10, 11, 12, 13, 14, 15, 16, 17,\n",
       "          18, 19, 20, 21, 22, 23, 24, 25, 26, 27, 28, 29, 30, 31, 32, 33, 34,\n",
       "          35, 36],\n",
       "         [37, 38, 39, 40, 41, 42, 43, 44, 45, 46, 47, 48, 49, 50, 51, 52, 53,\n",
       "          54, 55, 56, 57, 58, 59, 60, 61, 62, 63, 64, 65, 66, 67, 68, 69, 70,\n",
       "          71, 72]]])"
      ]
     },
     "execution_count": 177,
     "metadata": {},
     "output_type": "execute_result"
    }
   ],
   "source": [
    "total = B*T*hd*nh*3\n",
    "QKV = torch.arange(1,total+1).view(B,T,nh*3*hd)\n",
    "#QKV = torch.randn(B,T,nh*3*hd)\n",
    "print(QKV.shape)\n",
    "QKV # output of linear layer [B,T,KQV*nh*hd]"
   ]
  },
  {
   "cell_type": "code",
   "execution_count": 178,
   "metadata": {},
   "outputs": [
    {
     "name": "stdout",
     "output_type": "stream",
     "text": [
      "torch.Size([1, 3, 2, 3, 4])\n"
     ]
    },
    {
     "data": {
      "text/plain": [
       "tensor([[[[[ 1,  2,  3,  4],\n",
       "           [ 5,  6,  7,  8],\n",
       "           [ 9, 10, 11, 12]],\n",
       "\n",
       "          [[13, 14, 15, 16],\n",
       "           [17, 18, 19, 20],\n",
       "           [21, 22, 23, 24]]],\n",
       "\n",
       "\n",
       "         [[[25, 26, 27, 28],\n",
       "           [29, 30, 31, 32],\n",
       "           [33, 34, 35, 36]],\n",
       "\n",
       "          [[37, 38, 39, 40],\n",
       "           [41, 42, 43, 44],\n",
       "           [45, 46, 47, 48]]],\n",
       "\n",
       "\n",
       "         [[[49, 50, 51, 52],\n",
       "           [53, 54, 55, 56],\n",
       "           [57, 58, 59, 60]],\n",
       "\n",
       "          [[61, 62, 63, 64],\n",
       "           [65, 66, 67, 68],\n",
       "           [69, 70, 71, 72]]]]])"
      ]
     },
     "execution_count": 178,
     "metadata": {},
     "output_type": "execute_result"
    }
   ],
   "source": [
    "qkv = QKV.view(B,nh,T,3,hd) \n",
    "\"\"\"\n",
    "THIS IS WRONG.\n",
    "If you look closely, you'll reaize that [0,1,1,:,:] \n",
    "is taking information that belongs to the 1st token based on QKV[0,0,:]\n",
    "So the view is messing things up.\n",
    "\"\"\"\n",
    "# everything grouped by batch -> head -> sequence -> QKV matrix\n",
    "print(qkv.shape)\n",
    "qkv"
   ]
  },
  {
   "cell_type": "code",
   "execution_count": 179,
   "metadata": {},
   "outputs": [
    {
     "name": "stdout",
     "output_type": "stream",
     "text": [
      "torch.Size([1, 3, 2, 4])\n",
      "tensor([[[[ 1,  2,  3,  4],\n",
      "          [13, 14, 15, 16]],\n",
      "\n",
      "         [[25, 26, 27, 28],\n",
      "          [37, 38, 39, 40]],\n",
      "\n",
      "         [[49, 50, 51, 52],\n",
      "          [61, 62, 63, 64]]]])\n"
     ]
    }
   ],
   "source": [
    "Q = qkv[:,:,:,0,:] # all Q matrices \n",
    "print(Q.shape)\n",
    "print(Q)"
   ]
  },
  {
   "cell_type": "code",
   "execution_count": 88,
   "metadata": {},
   "outputs": [
    {
     "name": "stdout",
     "output_type": "stream",
     "text": [
      "tensor([[[[  5,   6,   7,   8],\n",
      "          [ 17,  18,  19,  20]],\n",
      "\n",
      "         [[ 29,  30,  31,  32],\n",
      "          [ 41,  42,  43,  44]],\n",
      "\n",
      "         [[ 53,  54,  55,  56],\n",
      "          [ 65,  66,  67,  68]]],\n",
      "\n",
      "\n",
      "        [[[ 77,  78,  79,  80],\n",
      "          [ 89,  90,  91,  92]],\n",
      "\n",
      "         [[101, 102, 103, 104],\n",
      "          [113, 114, 115, 116]],\n",
      "\n",
      "         [[125, 126, 127, 128],\n",
      "          [137, 138, 139, 140]]]])\n",
      "torch.Size([2, 3, 2, 4])\n"
     ]
    }
   ],
   "source": [
    "K = qkv[:,:,:,1,:] # all K matrices\n",
    "print(K)\n",
    "print(K.shape)"
   ]
  },
  {
   "cell_type": "code",
   "execution_count": 89,
   "metadata": {},
   "outputs": [
    {
     "name": "stdout",
     "output_type": "stream",
     "text": [
      "tensor([[[[  5,  17],\n",
      "          [  6,  18],\n",
      "          [  7,  19],\n",
      "          [  8,  20]],\n",
      "\n",
      "         [[ 29,  41],\n",
      "          [ 30,  42],\n",
      "          [ 31,  43],\n",
      "          [ 32,  44]],\n",
      "\n",
      "         [[ 53,  65],\n",
      "          [ 54,  66],\n",
      "          [ 55,  67],\n",
      "          [ 56,  68]]],\n",
      "\n",
      "\n",
      "        [[[ 77,  89],\n",
      "          [ 78,  90],\n",
      "          [ 79,  91],\n",
      "          [ 80,  92]],\n",
      "\n",
      "         [[101, 113],\n",
      "          [102, 114],\n",
      "          [103, 115],\n",
      "          [104, 116]],\n",
      "\n",
      "         [[125, 137],\n",
      "          [126, 138],\n",
      "          [127, 139],\n",
      "          [128, 140]]]])\n",
      "torch.Size([2, 3, 4, 2])\n"
     ]
    }
   ],
   "source": [
    "K_T = qkv[:,:,:,1,:].transpose(-2,-1) # all K matrices transposed\n",
    "print(K_T)\n",
    "print(K_T.shape)"
   ]
  },
  {
   "cell_type": "code",
   "execution_count": 90,
   "metadata": {},
   "outputs": [
    {
     "name": "stdout",
     "output_type": "stream",
     "text": [
      "tensor([[[[  9,  10,  11,  12],\n",
      "          [ 21,  22,  23,  24]],\n",
      "\n",
      "         [[ 33,  34,  35,  36],\n",
      "          [ 45,  46,  47,  48]],\n",
      "\n",
      "         [[ 57,  58,  59,  60],\n",
      "          [ 69,  70,  71,  72]]],\n",
      "\n",
      "\n",
      "        [[[ 81,  82,  83,  84],\n",
      "          [ 93,  94,  95,  96]],\n",
      "\n",
      "         [[105, 106, 107, 108],\n",
      "          [117, 118, 119, 120]],\n",
      "\n",
      "         [[129, 130, 131, 132],\n",
      "          [141, 142, 143, 144]]]])\n",
      "torch.Size([2, 3, 2, 4])\n"
     ]
    }
   ],
   "source": [
    "V = qkv[:,:,:,2,:]\n",
    "print(V)\n",
    "print(V.shape)"
   ]
  },
  {
   "cell_type": "code",
   "execution_count": 91,
   "metadata": {},
   "outputs": [
    {
     "name": "stdout",
     "output_type": "stream",
     "text": [
      "tensor([[[[   70,   190],\n",
      "          [  382,  1078]],\n",
      "\n",
      "         [[ 3238,  4510],\n",
      "          [ 4702,  6550]],\n",
      "\n",
      "         [[11014, 13438],\n",
      "          [13630, 16630]]],\n",
      "\n",
      "\n",
      "        [[[23398, 26974],\n",
      "          [27166, 31318]],\n",
      "\n",
      "         [[40390, 45118],\n",
      "          [45310, 50614]],\n",
      "\n",
      "         [[61990, 67870],\n",
      "          [68062, 74518]]]])\n",
      "torch.Size([2, 3, 2, 2])\n"
     ]
    }
   ],
   "source": [
    "AM = Q @ K_T\n",
    "print(AM)\n",
    "print(AM.shape)\n",
    "# goal: [B,nh,T,T]"
   ]
  },
  {
   "cell_type": "code",
   "execution_count": 81,
   "metadata": {},
   "outputs": [
    {
     "name": "stdout",
     "output_type": "stream",
     "text": [
      "tensor([[[[1.0000, 0.0000],\n",
      "          [0.4933, 0.5067]],\n",
      "\n",
      "         [[1.0000, 0.0000],\n",
      "          [0.5234, 0.4766]],\n",
      "\n",
      "         [[1.0000, 0.0000],\n",
      "          [0.4966, 0.5034]]],\n",
      "\n",
      "\n",
      "        [[[1.0000, 0.0000],\n",
      "          [0.4833, 0.5167]],\n",
      "\n",
      "         [[1.0000, 0.0000],\n",
      "          [0.5095, 0.4905]],\n",
      "\n",
      "         [[1.0000, 0.0000],\n",
      "          [0.4750, 0.5250]]]])\n",
      "torch.Size([2, 3, 2, 2])\n"
     ]
    }
   ],
   "source": [
    "from math import sqrt \n",
    "\n",
    "AM = AM / sqrt(d) # scale\n",
    "mask = torch.triu(torch.ones_like(AM),diagonal=1).bool()\n",
    "masked_AM = AM.masked_fill(mask,float('-inf'))\n",
    "attn_weights = torch.nn.functional.softmax(masked_AM,dim=-1)\n",
    "out = attn_weights @ V\n",
    "print(attn_weights)\n",
    "print(attn_weights.shape)"
   ]
  },
  {
   "cell_type": "code",
   "execution_count": 82,
   "metadata": {},
   "outputs": [
    {
     "name": "stdout",
     "output_type": "stream",
     "text": [
      "tensor([[[[-0.3034,  0.6861, -0.3266,  0.7071],\n",
      "          [ 1.1179,  0.8013,  0.3003,  0.8634]],\n",
      "\n",
      "         [[-0.6100,  0.3836,  0.2797,  0.1567],\n",
      "          [-0.9549,  0.8888,  0.3955, -0.6993]],\n",
      "\n",
      "         [[ 1.7258, -1.8626, -1.0199, -0.5793],\n",
      "          [-0.5443, -0.8104, -1.4201,  0.1152]]],\n",
      "\n",
      "\n",
      "        [[[ 0.6855, -0.4818,  0.5789, -0.2515],\n",
      "          [ 0.4977, -1.2107,  0.6248, -0.2825]],\n",
      "\n",
      "         [[-1.2388, -0.0442,  0.0299, -0.1188],\n",
      "          [ 1.0769, -0.2042, -0.2424, -1.2177]],\n",
      "\n",
      "         [[-0.5631, -0.5505, -0.3765, -0.9081],\n",
      "          [ 1.4550,  0.9858, -1.1073, -0.8797]]]])\n",
      "torch.Size([2, 3, 2, 4])\n"
     ]
    }
   ],
   "source": [
    "print(V)\n",
    "print(V.shape)"
   ]
  },
  {
   "cell_type": "code",
   "execution_count": 107,
   "metadata": {},
   "outputs": [
    {
     "name": "stdout",
     "output_type": "stream",
     "text": [
      "torch.Size([2, 3, 2, 4])\n"
     ]
    },
    {
     "data": {
      "text/plain": [
       "tensor([[[[-0.3034,  0.6861, -0.3266,  0.7071],\n",
       "          [ 0.4167,  0.7445, -0.0089,  0.7863]],\n",
       "\n",
       "         [[-0.6100,  0.3836,  0.2797,  0.1567],\n",
       "          [-0.7744,  0.6244,  0.3349, -0.2512]],\n",
       "\n",
       "         [[ 1.7258, -1.8626, -1.0199, -0.5793],\n",
       "          [ 0.5831, -1.3329, -1.2214, -0.2297]]],\n",
       "\n",
       "\n",
       "        [[[ 0.6855, -0.4818,  0.5789, -0.2515],\n",
       "          [ 0.5885, -0.8584,  0.6027, -0.2676]],\n",
       "\n",
       "         [[-1.2388, -0.0442,  0.0299, -0.1188],\n",
       "          [-0.1030, -0.1227, -0.1036, -0.6578]],\n",
       "\n",
       "         [[-0.5631, -0.5505, -0.3765, -0.9081],\n",
       "          [ 0.4964,  0.2561, -0.7602, -0.8932]]]])"
      ]
     },
     "execution_count": 107,
     "metadata": {},
     "output_type": "execute_result"
    }
   ],
   "source": [
    "#print(out)\n",
    "print(out.shape)\n",
    "out"
   ]
  },
  {
   "cell_type": "code",
   "execution_count": 113,
   "metadata": {},
   "outputs": [
    {
     "name": "stdout",
     "output_type": "stream",
     "text": [
      "torch.Size([2, 2, 3, 4])\n"
     ]
    },
    {
     "data": {
      "text/plain": [
       "tensor([[[[-0.3034,  0.6861, -0.3266,  0.7071],\n",
       "          [-0.6100,  0.3836,  0.2797,  0.1567],\n",
       "          [ 1.7258, -1.8626, -1.0199, -0.5793]],\n",
       "\n",
       "         [[ 0.4167,  0.7445, -0.0089,  0.7863],\n",
       "          [-0.7744,  0.6244,  0.3349, -0.2512],\n",
       "          [ 0.5831, -1.3329, -1.2214, -0.2297]]],\n",
       "\n",
       "\n",
       "        [[[ 0.6855, -0.4818,  0.5789, -0.2515],\n",
       "          [-1.2388, -0.0442,  0.0299, -0.1188],\n",
       "          [-0.5631, -0.5505, -0.3765, -0.9081]],\n",
       "\n",
       "         [[ 0.5885, -0.8584,  0.6027, -0.2676],\n",
       "          [-0.1030, -0.1227, -0.1036, -0.6578],\n",
       "          [ 0.4964,  0.2561, -0.7602, -0.8932]]]])"
      ]
     },
     "execution_count": 113,
     "metadata": {},
     "output_type": "execute_result"
    }
   ],
   "source": [
    "print(out.permute(0,2,1,3).shape)\n",
    "out_permute = out.permute(0,2,1,3) # B, T, nh, hd\n",
    "out_permute\n",
    "#out_test\n",
    "#out_test = out_test.view(B,T,nh*hd)"
   ]
  },
  {
   "cell_type": "code",
   "execution_count": 118,
   "metadata": {},
   "outputs": [
    {
     "data": {
      "text/plain": [
       "True"
      ]
     },
     "execution_count": 118,
     "metadata": {},
     "output_type": "execute_result"
    }
   ],
   "source": [
    "out_contig = out_permute.contiguous()\n",
    "out_contig.is_contiguous()"
   ]
  },
  {
   "cell_type": "code",
   "execution_count": 119,
   "metadata": {},
   "outputs": [
    {
     "data": {
      "text/plain": [
       "tensor([[[[-0.3034,  0.6861, -0.3266,  0.7071],\n",
       "          [-0.6100,  0.3836,  0.2797,  0.1567],\n",
       "          [ 1.7258, -1.8626, -1.0199, -0.5793]],\n",
       "\n",
       "         [[ 0.4167,  0.7445, -0.0089,  0.7863],\n",
       "          [-0.7744,  0.6244,  0.3349, -0.2512],\n",
       "          [ 0.5831, -1.3329, -1.2214, -0.2297]]],\n",
       "\n",
       "\n",
       "        [[[ 0.6855, -0.4818,  0.5789, -0.2515],\n",
       "          [-1.2388, -0.0442,  0.0299, -0.1188],\n",
       "          [-0.5631, -0.5505, -0.3765, -0.9081]],\n",
       "\n",
       "         [[ 0.5885, -0.8584,  0.6027, -0.2676],\n",
       "          [-0.1030, -0.1227, -0.1036, -0.6578],\n",
       "          [ 0.4964,  0.2561, -0.7602, -0.8932]]]])"
      ]
     },
     "execution_count": 119,
     "metadata": {},
     "output_type": "execute_result"
    }
   ],
   "source": [
    "out_contig"
   ]
  },
  {
   "cell_type": "code",
   "execution_count": 122,
   "metadata": {},
   "outputs": [
    {
     "name": "stdout",
     "output_type": "stream",
     "text": [
      "torch.Size([2, 2, 12])\n"
     ]
    },
    {
     "data": {
      "text/plain": [
       "tensor([[[-0.3034,  0.6861, -0.3266,  0.7071, -0.6100,  0.3836,  0.2797,\n",
       "           0.1567,  1.7258, -1.8626, -1.0199, -0.5793],\n",
       "         [ 0.4167,  0.7445, -0.0089,  0.7863, -0.7744,  0.6244,  0.3349,\n",
       "          -0.2512,  0.5831, -1.3329, -1.2214, -0.2297]],\n",
       "\n",
       "        [[ 0.6855, -0.4818,  0.5789, -0.2515, -1.2388, -0.0442,  0.0299,\n",
       "          -0.1188, -0.5631, -0.5505, -0.3765, -0.9081],\n",
       "         [ 0.5885, -0.8584,  0.6027, -0.2676, -0.1030, -0.1227, -0.1036,\n",
       "          -0.6578,  0.4964,  0.2561, -0.7602, -0.8932]]])"
      ]
     },
     "execution_count": 122,
     "metadata": {},
     "output_type": "execute_result"
    }
   ],
   "source": [
    "print(out_contig.view(B,T,nh*hd).shape)\n",
    "out_heads_concat = out_contig.view(B,T,nh*hd)\n",
    "out_heads_concat"
   ]
  },
  {
   "cell_type": "code",
   "execution_count": 124,
   "metadata": {},
   "outputs": [
    {
     "name": "stdout",
     "output_type": "stream",
     "text": [
      "torch.Size([2, 2, 3])\n"
     ]
    },
    {
     "data": {
      "text/plain": [
       "tensor([[[-0.0581,  0.3313, -1.2239],\n",
       "         [-0.1983,  0.2745, -0.8868]],\n",
       "\n",
       "        [[-0.2511,  0.2724, -0.1678],\n",
       "         [-0.5068,  0.6644, -0.2228]]], grad_fn=<ViewBackward0>)"
      ]
     },
     "execution_count": 124,
     "metadata": {},
     "output_type": "execute_result"
    }
   ],
   "source": [
    "ll = torch.nn.Linear(nh*hd,d,bias=True)\n",
    "self_attention_out = ll(out_heads_concat)\n",
    "print(self_attention_out.shape)\n",
    "self_attention_out"
   ]
  },
  {
   "cell_type": "code",
   "execution_count": 131,
   "metadata": {},
   "outputs": [
    {
     "data": {
      "text/plain": [
       "0"
      ]
     },
     "execution_count": 131,
     "metadata": {},
     "output_type": "execute_result"
    }
   ],
   "source": [
    "120 % 6"
   ]
  }
 ],
 "metadata": {
  "kernelspec": {
   "display_name": "base",
   "language": "python",
   "name": "python3"
  },
  "language_info": {
   "codemirror_mode": {
    "name": "ipython",
    "version": 3
   },
   "file_extension": ".py",
   "mimetype": "text/x-python",
   "name": "python",
   "nbconvert_exporter": "python",
   "pygments_lexer": "ipython3",
   "version": "3.11.7"
  }
 },
 "nbformat": 4,
 "nbformat_minor": 2
}
