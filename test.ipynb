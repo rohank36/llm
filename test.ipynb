{
 "cells": [
  {
   "cell_type": "code",
   "execution_count": 1,
   "metadata": {},
   "outputs": [],
   "source": [
    "import numpy as np \n",
    "import pandas as pd\n",
    "import torch\n",
    "import tiktoken "
   ]
  },
  {
   "cell_type": "code",
   "execution_count": null,
   "metadata": {},
   "outputs": [],
   "source": [
    "x = np.array([[1,2,3]])\n",
    "print(x.shape)\n",
    "x"
   ]
  },
  {
   "cell_type": "code",
   "execution_count": null,
   "metadata": {},
   "outputs": [],
   "source": [
    "y = np.array([[1],[2],[3]])\n",
    "print(y.shape)\n",
    "y"
   ]
  },
  {
   "cell_type": "code",
   "execution_count": null,
   "metadata": {},
   "outputs": [],
   "source": [
    "x + y"
   ]
  },
  {
   "cell_type": "code",
   "execution_count": null,
   "metadata": {},
   "outputs": [],
   "source": [
    "torch.__version__"
   ]
  },
  {
   "cell_type": "code",
   "execution_count": null,
   "metadata": {},
   "outputs": [],
   "source": [
    "torch.cuda.is_available()"
   ]
  },
  {
   "cell_type": "code",
   "execution_count": null,
   "metadata": {},
   "outputs": [],
   "source": [
    "# create a 0D tensor (scalar) from a Python integer\n",
    "tensor0d = torch.tensor(1)\n",
    "\n",
    "# create a 1D tensor (vector) from a Python list\n",
    "tensor1d = torch.tensor([1, 2, 3])\n",
    "\n",
    "# create a 2D tensor from a nested Python list\n",
    "tensor2d = torch.tensor([[1, 2, 3], [4, 5, 6]])\n",
    "\n",
    "# create a 3D tensor from a nested Python list\n",
    "tensor3d = torch.tensor([[[1, 2], [3, 4]], [[5, 6], [7, 8]]])"
   ]
  },
  {
   "cell_type": "code",
   "execution_count": null,
   "metadata": {},
   "outputs": [],
   "source": [
    "tensor2d"
   ]
  },
  {
   "cell_type": "code",
   "execution_count": null,
   "metadata": {},
   "outputs": [],
   "source": [
    "tensor2d.T"
   ]
  },
  {
   "cell_type": "code",
   "execution_count": null,
   "metadata": {},
   "outputs": [],
   "source": [
    "import torch.nn.functional as F\n",
    "from torch.autograd import grad\n",
    "\n",
    "y = torch.tensor([1.0])\n",
    "x1 = torch.tensor([1.1])\n",
    "w1 = torch.tensor([2.2], requires_grad=True)\n",
    "b = torch.tensor([0.0], requires_grad=True)\n",
    "\n",
    "z = x1 * w1 + b\n",
    "a = torch.sigmoid(z)\n",
    "\n",
    "loss = F.binary_cross_entropy(a, y)\n",
    "\n",
    "loss.backward()\n",
    "\n",
    "print(w1.grad)\n",
    "print(b.grad)"
   ]
  },
  {
   "cell_type": "code",
   "execution_count": null,
   "metadata": {},
   "outputs": [],
   "source": [
    "class NeuralNetwork(torch.nn.Module):\n",
    "    def __init__(self, num_inputs, num_outputs):\n",
    "        super().__init__()\n",
    "\n",
    "        self.layers = torch.nn.Sequential(\n",
    "\n",
    "            # 1st hidden layer\n",
    "            torch.nn.Linear(num_inputs, 30),\n",
    "            torch.nn.ReLU(),\n",
    "\n",
    "            # 2nd hidden layer\n",
    "            torch.nn.Linear(30, 20),\n",
    "            torch.nn.ReLU(),\n",
    "\n",
    "            # output layer\n",
    "            torch.nn.Linear(20, num_outputs),\n",
    "        )\n",
    "\n",
    "    def forward(self, x):\n",
    "        logits = self.layers(x)\n",
    "        return logits"
   ]
  },
  {
   "cell_type": "code",
   "execution_count": null,
   "metadata": {},
   "outputs": [],
   "source": [
    "torch.manual_seed(123)\n",
    "model = NeuralNetwork(50, 3)\n",
    "print(model)\n",
    "num_params = sum(\n",
    "    p.numel() for p in model.parameters() if p.requires_grad\n",
    ")\n",
    "print(\"Total number of trainable model parameters:\", num_params)"
   ]
  },
  {
   "cell_type": "code",
   "execution_count": null,
   "metadata": {},
   "outputs": [],
   "source": [
    "model.layers[0].weight"
   ]
  },
  {
   "cell_type": "code",
   "execution_count": null,
   "metadata": {},
   "outputs": [],
   "source": [
    "print(model.layers[0].weight.shape)"
   ]
  },
  {
   "cell_type": "code",
   "execution_count": null,
   "metadata": {},
   "outputs": [],
   "source": [
    "torch.manual_seed(123)\n",
    "\n",
    "X = torch.rand((1, 50))\n",
    "with torch.no_grad():\n",
    "    out = model(X)\n",
    "print(out)"
   ]
  },
  {
   "cell_type": "code",
   "execution_count": null,
   "metadata": {},
   "outputs": [],
   "source": [
    "X_train = torch.tensor([\n",
    "    [-1.2, 3.1],\n",
    "    [-0.9, 2.9],\n",
    "    [-0.5, 2.6],\n",
    "    [2.3, -1.1],\n",
    "    [2.7, -1.5]\n",
    "])\n",
    "\n",
    "y_train = torch.tensor([0, 0, 0, 1, 1])\n",
    "\n",
    "X_test = torch.tensor([\n",
    "    [-0.8, 2.8],\n",
    "    [2.6, -1.6],\n",
    "])\n",
    "\n",
    "y_test = torch.tensor([0, 1])"
   ]
  },
  {
   "cell_type": "code",
   "execution_count": null,
   "metadata": {},
   "outputs": [],
   "source": [
    "from torch.utils.data import Dataset\n",
    "\n",
    "\n",
    "class ToyDataset(Dataset):\n",
    "    def __init__(self, X, y):\n",
    "        self.features = X\n",
    "        self.labels = y\n",
    "\n",
    "    def __getitem__(self, index):\n",
    "        one_x = self.features[index]\n",
    "        one_y = self.labels[index]\n",
    "        return one_x, one_y\n",
    "\n",
    "    def __len__(self):\n",
    "        return self.labels.shape[0]\n",
    "\n",
    "\n",
    "train_ds = ToyDataset(X_train, y_train)\n",
    "test_ds = ToyDataset(X_test, y_test)"
   ]
  },
  {
   "cell_type": "code",
   "execution_count": null,
   "metadata": {},
   "outputs": [],
   "source": [
    "from torch.utils.data import DataLoader\n",
    "\n",
    "torch.manual_seed(123)\n",
    "\n",
    "train_loader = DataLoader(\n",
    "    dataset=train_ds,\n",
    "    batch_size=2,\n",
    "    shuffle=True,\n",
    "    num_workers=0,\n",
    "    drop_last=True\n",
    ")\n",
    "\n",
    "test_loader = DataLoader(\n",
    "    dataset=test_ds,\n",
    "    batch_size=2,\n",
    "    shuffle=False,\n",
    "    num_workers=0,\n",
    "    drop_last=True\n",
    ")\n",
    "\n",
    "for idx, (x, y) in enumerate(train_loader):\n",
    "    print(f\"Batch {idx+1}:\", x, y)"
   ]
  },
  {
   "cell_type": "code",
   "execution_count": null,
   "metadata": {},
   "outputs": [],
   "source": [
    "torch.manual_seed(123)\n",
    "model = NeuralNetwork(num_inputs=2,num_outputs=2)\n",
    "\n",
    "#device = torch.device('cuda')\n",
    "device = torch.device(\"cuda\" if torch.cuda.is_available() else \"cpu\") # considered pytorch best practice\n",
    "model.to(device)\n",
    "\n",
    "optimizer = torch.optim.SGD(model.parameters(),lr=0.5)\n",
    "epochs = 3\n",
    "\n",
    "for epoch in range(epochs):\n",
    "\n",
    "    model.train()\n",
    "\n",
    "    for batch_idx, (features,labels) in enumerate(train_loader):\n",
    "        features,labels = features.to(device), labels.to(device)\n",
    "\n",
    "        logits = model(features)\n",
    "        loss = F.cross_entropy(logits,labels)\n",
    "        \n",
    "        optimizer.zero_grad()\n",
    "        loss.backward()\n",
    "        optimizer.step()\n",
    "\n",
    "        print(f\"Epoch: {epoch+1:03d}/{epochs:03d}\" f\" | Batch {batch_idx:03d}/{len(train_loader):03d}\" f\" | Train/Val Loss: {loss:.2f}\")\n",
    "      \n",
    "    model.eval()"
   ]
  },
  {
   "cell_type": "code",
   "execution_count": null,
   "metadata": {},
   "outputs": [],
   "source": [
    "# can make predictions\n",
    "model.eval()\n",
    "with torch.no_grad():\n",
    "    outputs = model(X_train) # logits\n",
    "print(outputs)\n",
    "\n",
    "torch.set_printoptions(sci_mode=False) \n",
    "probs = torch.softmax(outputs,dim=1) # class probas\n",
    "print(probs)\n",
    "\n",
    "preds = torch.argmax(probs,dim=1) # convert probas to class preds\n",
    "print(preds)\n",
    " \n",
    "preds = torch.argmax(outputs,dim=1) # could also get preds direct from logits\n",
    "print(preds)"
   ]
  },
  {
   "cell_type": "code",
   "execution_count": null,
   "metadata": {},
   "outputs": [],
   "source": [
    "(torch.sum(preds == y_train) / len(y_train))*100 # acc"
   ]
  },
  {
   "cell_type": "code",
   "execution_count": null,
   "metadata": {},
   "outputs": [],
   "source": [
    "for key in model.state_dict(): \n",
    "    print(key)"
   ]
  },
  {
   "cell_type": "code",
   "execution_count": null,
   "metadata": {},
   "outputs": [],
   "source": [
    "torch.save(model.state_dict(),\"model_test.pth\")"
   ]
  },
  {
   "cell_type": "code",
   "execution_count": null,
   "metadata": {},
   "outputs": [],
   "source": [
    "model = NeuralNetwork(2,2)\n",
    "model.load_state_dict(torch.load(\"model_test.pth\", weights_only=True))"
   ]
  },
  {
   "cell_type": "code",
   "execution_count": null,
   "metadata": {},
   "outputs": [],
   "source": [
    "#model = MyTransformerDecoderModel(...)\n",
    "#model = model.half().cuda()  # Use float16 to save VRAM\n",
    "\n",
    "# Check memory usage\n",
    "#print(torch.cuda.memory_allocated() / 1024 ** 2, \"MB allocated\")"
   ]
  },
  {
   "cell_type": "code",
   "execution_count": null,
   "metadata": {},
   "outputs": [],
   "source": [
    "x = torch.randn(2,2,3)\n",
    "y = torch.randn(2,2,3)\n",
    "y = y.view()\n",
    "print(x)\n",
    "print(x.shape)\n",
    "print(\"\")\n",
    "print(y)\n",
    "print(y.shape)"
   ]
  },
  {
   "cell_type": "code",
   "execution_count": null,
   "metadata": {},
   "outputs": [],
   "source": [
    "enc = tiktoken.get_encoding(\"gpt2\")\n",
    "vocab_size = enc.n_vocab\n",
    "print(f\"Vocab size: {vocab_size}\")\n",
    "es = enc.encode(\"Hello, Marcus Aurelius.\")\n",
    "print(es)\n",
    "ds = enc.decode(es)\n",
    "print(ds)"
   ]
  },
  {
   "cell_type": "markdown",
   "metadata": {},
   "source": [
    "### Multi-head tensor"
   ]
  },
  {
   "cell_type": "code",
   "execution_count": 3,
   "metadata": {},
   "outputs": [],
   "source": [
    "# optimal mha\n",
    "# no loops, one big matrix \n",
    "B = 2 # batch size\n",
    "T = 2 # sequence length\n",
    "d = 3 # emebedding dim \n",
    "hd = 4 # head dim, in practice it will be d // n_heads\n",
    "nh = 3 # num heads\n",
    "\n",
    "#X = torch.randint(low=1,high=9,size=(B,T,d))\n",
    "X = torch.randn((B,T,d))"
   ]
  },
  {
   "cell_type": "code",
   "execution_count": null,
   "metadata": {},
   "outputs": [],
   "source": [
    "ll = torch.nn.Linear(d,3*hd*nh,bias=True)\n",
    "QKV = ll(X)\n",
    "print(QKV)\n",
    "QKV.shape"
   ]
  },
  {
   "cell_type": "code",
   "execution_count": null,
   "metadata": {},
   "outputs": [],
   "source": [
    "qkv = QKV.view(B,T,nh,3,hd) \n",
    "print(qkv.shape)\n",
    "\n",
    "#qkv = QKV.view(B,nh,3,T,hd)\n",
    "#print(qkv.shape)"
   ]
  },
  {
   "cell_type": "code",
   "execution_count": null,
   "metadata": {},
   "outputs": [],
   "source": [
    "qkv[:,:,0,1,:] # K of head 1"
   ]
  },
  {
   "cell_type": "code",
   "execution_count": null,
   "metadata": {},
   "outputs": [],
   "source": [
    "qkv[:,:,:,1,:] # All Ks"
   ]
  },
  {
   "cell_type": "code",
   "execution_count": null,
   "metadata": {},
   "outputs": [],
   "source": [
    "# Q @ K.T for all heads\n",
    "attn_matrix = qkv[:,:,:,0,:] @ qkv[:,:,:,1,:].transpose(-2,-1)\n",
    "# [2, 2, 3, 4] @ [2, 2, 4, 3] = [2, 2, 3, 3]\n",
    "# [B, T, nh, hd] @ [B, T, hd, nh] = [B, T, nh, nh] --> the attention matrix for each head of each sequence of each batch\n",
    "print(attn_matrix)\n",
    "print(attn_matrix.shape)"
   ]
  },
  {
   "cell_type": "code",
   "execution_count": null,
   "metadata": {},
   "outputs": [],
   "source": [
    "qkv[:,:,0,0,:] # Q of head 1 across batches"
   ]
  },
  {
   "cell_type": "code",
   "execution_count": null,
   "metadata": {},
   "outputs": [],
   "source": [
    "qkv[:,:,1,0,:] # Q of head 2 across batches"
   ]
  },
  {
   "cell_type": "code",
   "execution_count": null,
   "metadata": {},
   "outputs": [],
   "source": [
    "QKV[:,:,0*hd:1*hd] # Q of head 1 across batches\n",
    "#QKV[:,:,1*hd:2*hd] # K of head 1\n",
    "#QKV[:,:,2*hd:3*hd] # V of head 1\n",
    "#QKV[:,:,3*hd:4*hd] # Q of head 2"
   ]
  },
  {
   "cell_type": "code",
   "execution_count": null,
   "metadata": {},
   "outputs": [],
   "source": [
    "# Q @ K.T\n",
    "QKV[:,:,:hd] @ QKV[:,:,hd:2*hd].transpose(-2,-1)\n",
    "# [B,T,hd] @ [B,hd,T] --> [B,T,T]"
   ]
  },
  {
   "cell_type": "markdown",
   "metadata": {},
   "source": [
    "### Playing around with view()"
   ]
  },
  {
   "cell_type": "markdown",
   "metadata": {},
   "source": [
    "simulate self attention calculation"
   ]
  },
  {
   "cell_type": "code",
   "execution_count": 64,
   "metadata": {},
   "outputs": [
    {
     "data": {
      "text/plain": [
       "tensor([[[-0.3062,  0.2642,  0.3102,  0.4786, -1.2811, -0.2103, -2.4662,\n",
       "          -1.2721, -0.3034,  0.6861, -0.3266,  0.7071,  1.0475,  0.1299,\n",
       "          -0.9075, -0.7080,  1.3434,  1.1133, -1.2462, -0.4755,  1.1179,\n",
       "           0.8013,  0.3003,  0.8634, -0.4267, -2.0687, -0.7458, -1.4827,\n",
       "           0.9015, -0.7634, -1.0350,  0.5715, -0.6100,  0.3836,  0.2797,\n",
       "           0.1567],\n",
       "         [ 0.5422, -0.1346, -0.9729,  0.6815,  0.3135, -1.6117,  2.7237,\n",
       "          -0.1971, -0.9549,  0.8888,  0.3955, -0.6993,  0.8184, -0.8732,\n",
       "           0.9098,  0.1571,  0.6365,  0.0739,  0.6761, -0.0710,  1.7258,\n",
       "          -1.8626, -1.0199, -0.5793, -0.0284,  0.8317, -0.6985,  0.4344,\n",
       "          -0.5708,  0.1838, -0.3823, -0.6147, -0.5443, -0.8104, -1.4201,\n",
       "           0.1152]],\n",
       "\n",
       "        [[ 0.0757,  0.0736, -0.7300, -0.4633,  1.4882, -0.5096,  1.0091,\n",
       "          -0.5052,  0.6855, -0.4818,  0.5789, -0.2515,  0.9766,  2.3151,\n",
       "          -0.8330,  0.3831,  0.9602,  0.3463, -0.6528,  0.1970,  0.4977,\n",
       "          -1.2107,  0.6248, -0.2825, -0.8830,  0.7813,  0.6567, -0.5447,\n",
       "          -0.4041,  1.0168, -0.9345,  1.8308, -1.2388, -0.0442,  0.0299,\n",
       "          -0.1188],\n",
       "         [-0.3422, -0.3264,  0.4268,  0.9416, -0.0763, -0.8357, -1.1926,\n",
       "          -0.4637,  1.0769, -0.2042, -0.2424, -1.2177, -0.3171,  0.9534,\n",
       "           0.1790, -1.4915, -1.9083,  0.6893, -1.6906, -0.8630, -0.5631,\n",
       "          -0.5505, -0.3765, -0.9081,  0.4982, -0.5435,  2.3647, -1.4747,\n",
       "           0.0449,  0.4397, -0.1326, -0.7851,  1.4550,  0.9858, -1.1073,\n",
       "          -0.8797]]])"
      ]
     },
     "execution_count": 64,
     "metadata": {},
     "output_type": "execute_result"
    }
   ],
   "source": [
    "total = B*T*hd*nh*3\n",
    "#QKV = torch.arange(1.0,total+1).view(B,T,nh*3*hd)\n",
    "QKV = torch.randn(B,T,nh*3*hd)\n",
    "QKV # output of linear layer [B,T,KQV*nh*hd]"
   ]
  },
  {
   "cell_type": "code",
   "execution_count": 65,
   "metadata": {},
   "outputs": [
    {
     "data": {
      "text/plain": [
       "tensor([[[[[-0.3062,  0.2642,  0.3102,  0.4786],\n",
       "           [-1.2811, -0.2103, -2.4662, -1.2721],\n",
       "           [-0.3034,  0.6861, -0.3266,  0.7071]],\n",
       "\n",
       "          [[ 1.0475,  0.1299, -0.9075, -0.7080],\n",
       "           [ 1.3434,  1.1133, -1.2462, -0.4755],\n",
       "           [ 1.1179,  0.8013,  0.3003,  0.8634]]],\n",
       "\n",
       "\n",
       "         [[[-0.4267, -2.0687, -0.7458, -1.4827],\n",
       "           [ 0.9015, -0.7634, -1.0350,  0.5715],\n",
       "           [-0.6100,  0.3836,  0.2797,  0.1567]],\n",
       "\n",
       "          [[ 0.5422, -0.1346, -0.9729,  0.6815],\n",
       "           [ 0.3135, -1.6117,  2.7237, -0.1971],\n",
       "           [-0.9549,  0.8888,  0.3955, -0.6993]]],\n",
       "\n",
       "\n",
       "         [[[ 0.8184, -0.8732,  0.9098,  0.1571],\n",
       "           [ 0.6365,  0.0739,  0.6761, -0.0710],\n",
       "           [ 1.7258, -1.8626, -1.0199, -0.5793]],\n",
       "\n",
       "          [[-0.0284,  0.8317, -0.6985,  0.4344],\n",
       "           [-0.5708,  0.1838, -0.3823, -0.6147],\n",
       "           [-0.5443, -0.8104, -1.4201,  0.1152]]]],\n",
       "\n",
       "\n",
       "\n",
       "        [[[[ 0.0757,  0.0736, -0.7300, -0.4633],\n",
       "           [ 1.4882, -0.5096,  1.0091, -0.5052],\n",
       "           [ 0.6855, -0.4818,  0.5789, -0.2515]],\n",
       "\n",
       "          [[ 0.9766,  2.3151, -0.8330,  0.3831],\n",
       "           [ 0.9602,  0.3463, -0.6528,  0.1970],\n",
       "           [ 0.4977, -1.2107,  0.6248, -0.2825]]],\n",
       "\n",
       "\n",
       "         [[[-0.8830,  0.7813,  0.6567, -0.5447],\n",
       "           [-0.4041,  1.0168, -0.9345,  1.8308],\n",
       "           [-1.2388, -0.0442,  0.0299, -0.1188]],\n",
       "\n",
       "          [[-0.3422, -0.3264,  0.4268,  0.9416],\n",
       "           [-0.0763, -0.8357, -1.1926, -0.4637],\n",
       "           [ 1.0769, -0.2042, -0.2424, -1.2177]]],\n",
       "\n",
       "\n",
       "         [[[-0.3171,  0.9534,  0.1790, -1.4915],\n",
       "           [-1.9083,  0.6893, -1.6906, -0.8630],\n",
       "           [-0.5631, -0.5505, -0.3765, -0.9081]],\n",
       "\n",
       "          [[ 0.4982, -0.5435,  2.3647, -1.4747],\n",
       "           [ 0.0449,  0.4397, -0.1326, -0.7851],\n",
       "           [ 1.4550,  0.9858, -1.1073, -0.8797]]]]])"
      ]
     },
     "execution_count": 65,
     "metadata": {},
     "output_type": "execute_result"
    }
   ],
   "source": [
    "qkv = QKV.view(B,nh,T,3,hd) \n",
    "# everything grouped by batch -> head -> sequence -> QKV matrix\n",
    "qkv"
   ]
  },
  {
   "cell_type": "code",
   "execution_count": 66,
   "metadata": {},
   "outputs": [
    {
     "name": "stdout",
     "output_type": "stream",
     "text": [
      "tensor([[[[-0.3062,  0.2642,  0.3102,  0.4786],\n",
      "          [ 1.0475,  0.1299, -0.9075, -0.7080]],\n",
      "\n",
      "         [[-0.4267, -2.0687, -0.7458, -1.4827],\n",
      "          [ 0.5422, -0.1346, -0.9729,  0.6815]],\n",
      "\n",
      "         [[ 0.8184, -0.8732,  0.9098,  0.1571],\n",
      "          [-0.0284,  0.8317, -0.6985,  0.4344]]],\n",
      "\n",
      "\n",
      "        [[[ 0.0757,  0.0736, -0.7300, -0.4633],\n",
      "          [ 0.9766,  2.3151, -0.8330,  0.3831]],\n",
      "\n",
      "         [[-0.8830,  0.7813,  0.6567, -0.5447],\n",
      "          [-0.3422, -0.3264,  0.4268,  0.9416]],\n",
      "\n",
      "         [[-0.3171,  0.9534,  0.1790, -1.4915],\n",
      "          [ 0.4982, -0.5435,  2.3647, -1.4747]]]])\n",
      "torch.Size([2, 3, 2, 4])\n"
     ]
    }
   ],
   "source": [
    "Q = qkv[:,:,:,0,:] # all Q matrices \n",
    "print(Q)\n",
    "print(Q.shape)"
   ]
  },
  {
   "cell_type": "code",
   "execution_count": 67,
   "metadata": {},
   "outputs": [
    {
     "name": "stdout",
     "output_type": "stream",
     "text": [
      "tensor([[[[-1.2811, -0.2103, -2.4662, -1.2721],\n",
      "          [ 1.3434,  1.1133, -1.2462, -0.4755]],\n",
      "\n",
      "         [[ 0.9015, -0.7634, -1.0350,  0.5715],\n",
      "          [ 0.3135, -1.6117,  2.7237, -0.1971]],\n",
      "\n",
      "         [[ 0.6365,  0.0739,  0.6761, -0.0710],\n",
      "          [-0.5708,  0.1838, -0.3823, -0.6147]]],\n",
      "\n",
      "\n",
      "        [[[ 1.4882, -0.5096,  1.0091, -0.5052],\n",
      "          [ 0.9602,  0.3463, -0.6528,  0.1970]],\n",
      "\n",
      "         [[-0.4041,  1.0168, -0.9345,  1.8308],\n",
      "          [-0.0763, -0.8357, -1.1926, -0.4637]],\n",
      "\n",
      "         [[-1.9083,  0.6893, -1.6906, -0.8630],\n",
      "          [ 0.0449,  0.4397, -0.1326, -0.7851]]]])\n",
      "torch.Size([2, 3, 2, 4])\n"
     ]
    }
   ],
   "source": [
    "K = qkv[:,:,:,1,:] # all K matrices\n",
    "print(K)\n",
    "print(K.shape)"
   ]
  },
  {
   "cell_type": "code",
   "execution_count": 68,
   "metadata": {},
   "outputs": [
    {
     "name": "stdout",
     "output_type": "stream",
     "text": [
      "tensor([[[[-1.2811,  1.3434],\n",
      "          [-0.2103,  1.1133],\n",
      "          [-2.4662, -1.2462],\n",
      "          [-1.2721, -0.4755]],\n",
      "\n",
      "         [[ 0.9015,  0.3135],\n",
      "          [-0.7634, -1.6117],\n",
      "          [-1.0350,  2.7237],\n",
      "          [ 0.5715, -0.1971]],\n",
      "\n",
      "         [[ 0.6365, -0.5708],\n",
      "          [ 0.0739,  0.1838],\n",
      "          [ 0.6761, -0.3823],\n",
      "          [-0.0710, -0.6147]]],\n",
      "\n",
      "\n",
      "        [[[ 1.4882,  0.9602],\n",
      "          [-0.5096,  0.3463],\n",
      "          [ 1.0091, -0.6528],\n",
      "          [-0.5052,  0.1970]],\n",
      "\n",
      "         [[-0.4041, -0.0763],\n",
      "          [ 1.0168, -0.8357],\n",
      "          [-0.9345, -1.1926],\n",
      "          [ 1.8308, -0.4637]],\n",
      "\n",
      "         [[-1.9083,  0.0449],\n",
      "          [ 0.6893,  0.4397],\n",
      "          [-1.6906, -0.1326],\n",
      "          [-0.8630, -0.7851]]]])\n",
      "torch.Size([2, 3, 4, 2])\n"
     ]
    }
   ],
   "source": [
    "K_T = qkv[:,:,:,1,:].transpose(-2,-1) # all K matrices transposed\n",
    "print(K_T)\n",
    "print(K_T.shape)"
   ]
  },
  {
   "cell_type": "code",
   "execution_count": 69,
   "metadata": {},
   "outputs": [
    {
     "name": "stdout",
     "output_type": "stream",
     "text": [
      "tensor([[[[-0.3034,  0.6861, -0.3266,  0.7071],\n",
      "          [ 1.1179,  0.8013,  0.3003,  0.8634]],\n",
      "\n",
      "         [[-0.6100,  0.3836,  0.2797,  0.1567],\n",
      "          [-0.9549,  0.8888,  0.3955, -0.6993]],\n",
      "\n",
      "         [[ 1.7258, -1.8626, -1.0199, -0.5793],\n",
      "          [-0.5443, -0.8104, -1.4201,  0.1152]]],\n",
      "\n",
      "\n",
      "        [[[ 0.6855, -0.4818,  0.5789, -0.2515],\n",
      "          [ 0.4977, -1.2107,  0.6248, -0.2825]],\n",
      "\n",
      "         [[-1.2388, -0.0442,  0.0299, -0.1188],\n",
      "          [ 1.0769, -0.2042, -0.2424, -1.2177]],\n",
      "\n",
      "         [[-0.5631, -0.5505, -0.3765, -0.9081],\n",
      "          [ 1.4550,  0.9858, -1.1073, -0.8797]]]])\n",
      "torch.Size([2, 3, 2, 4])\n"
     ]
    }
   ],
   "source": [
    "V = qkv[:,:,:,2,:]\n",
    "print(V)\n",
    "print(V.shape)"
   ]
  },
  {
   "cell_type": "code",
   "execution_count": 70,
   "metadata": {},
   "outputs": [
    {
     "name": "stdout",
     "output_type": "stream",
     "text": [
      "tensor([[[[-1.0371, -0.7314],\n",
      "          [ 1.7695,  3.0193]],\n",
      "\n",
      "         [[ 1.1192,  1.4611],\n",
      "          [ 1.9880, -2.3972]],\n",
      "\n",
      "         [[ 1.0602, -1.0719],\n",
      "          [-0.4597,  0.1691]]],\n",
      "\n",
      "\n",
      "        [[[-0.4275,  0.4835],\n",
      "          [-0.7605,  2.3587]],\n",
      "\n",
      "         [[-0.4597, -1.1161],\n",
      "          [ 1.1314, -0.6466]],\n",
      "\n",
      "         [[ 2.2468,  1.5522],\n",
      "          [-4.0506,  0.6275]]]])\n",
      "torch.Size([2, 3, 2, 2])\n"
     ]
    }
   ],
   "source": [
    "AM = Q @ K_T\n",
    "print(AM)\n",
    "print(AM.shape)\n",
    "# goal: [B,nh,T,T]"
   ]
  },
  {
   "cell_type": "code",
   "execution_count": null,
   "metadata": {},
   "outputs": [
    {
     "data": {
      "text/plain": [
       "tensor([[[[1.0000, 0.0000],\n",
       "          [0.3270, 0.6730]],\n",
       "\n",
       "         [[1.0000, 0.0000],\n",
       "          [0.9263, 0.0737]],\n",
       "\n",
       "         [[1.0000, 0.0000],\n",
       "          [0.4102, 0.5898]]],\n",
       "\n",
       "\n",
       "        [[[1.0000, 0.0000],\n",
       "          [0.1417, 0.8583]],\n",
       "\n",
       "         [[1.0000, 0.0000],\n",
       "          [0.7362, 0.2638]],\n",
       "\n",
       "         [[1.0000, 0.0000],\n",
       "          [0.0629, 0.9371]]]])"
      ]
     },
     "execution_count": 71,
     "metadata": {},
     "output_type": "execute_result"
    }
   ],
   "source": [
    "from math import sqrt \n",
    "\n",
    "AM = AM / sqrt(d) # scale\n",
    "mask = torch.triu(torch.ones_like(AM),diagonal=1).bool()\n",
    "masked_AM = AM.masked_fill(mask,float('-inf'))\n",
    "attn_weights = torch.nn.functional.softmax(masked_AM,dim=-1)\n",
    "attn_weights\n",
    "#attn_weights @ V"
   ]
  },
  {
   "cell_type": "code",
   "execution_count": 72,
   "metadata": {},
   "outputs": [],
   "source": [
    "#torch.Size([2, 3, 2, 2]) masked AM"
   ]
  },
  {
   "cell_type": "code",
   "execution_count": 73,
   "metadata": {},
   "outputs": [],
   "source": [
    "#out = AM @ V\n",
    "#print(out)\n",
    "#print(out.shape)"
   ]
  },
  {
   "cell_type": "code",
   "execution_count": null,
   "metadata": {},
   "outputs": [],
   "source": []
  }
 ],
 "metadata": {
  "kernelspec": {
   "display_name": "base",
   "language": "python",
   "name": "python3"
  },
  "language_info": {
   "codemirror_mode": {
    "name": "ipython",
    "version": 3
   },
   "file_extension": ".py",
   "mimetype": "text/x-python",
   "name": "python",
   "nbconvert_exporter": "python",
   "pygments_lexer": "ipython3",
   "version": "3.11.7"
  }
 },
 "nbformat": 4,
 "nbformat_minor": 2
}
