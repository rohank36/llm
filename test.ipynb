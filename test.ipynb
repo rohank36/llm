{
 "cells": [
  {
   "cell_type": "code",
   "execution_count": 165,
   "metadata": {},
   "outputs": [],
   "source": [
    "import numpy as np \n",
    "import pandas as pd\n",
    "import torch\n",
    "import tiktoken "
   ]
  },
  {
   "cell_type": "code",
   "execution_count": 48,
   "metadata": {},
   "outputs": [
    {
     "name": "stdout",
     "output_type": "stream",
     "text": [
      "(1, 3)\n"
     ]
    },
    {
     "data": {
      "text/plain": [
       "array([[1, 2, 3]])"
      ]
     },
     "execution_count": 48,
     "metadata": {},
     "output_type": "execute_result"
    }
   ],
   "source": [
    "x = np.array([[1,2,3]])\n",
    "print(x.shape)\n",
    "x"
   ]
  },
  {
   "cell_type": "code",
   "execution_count": 49,
   "metadata": {},
   "outputs": [
    {
     "name": "stdout",
     "output_type": "stream",
     "text": [
      "(3, 1)\n"
     ]
    },
    {
     "data": {
      "text/plain": [
       "array([[1],\n",
       "       [2],\n",
       "       [3]])"
      ]
     },
     "execution_count": 49,
     "metadata": {},
     "output_type": "execute_result"
    }
   ],
   "source": [
    "y = np.array([[1],[2],[3]])\n",
    "print(y.shape)\n",
    "y"
   ]
  },
  {
   "cell_type": "code",
   "execution_count": 50,
   "metadata": {},
   "outputs": [
    {
     "data": {
      "text/plain": [
       "array([[2, 3, 4],\n",
       "       [3, 4, 5],\n",
       "       [4, 5, 6]])"
      ]
     },
     "execution_count": 50,
     "metadata": {},
     "output_type": "execute_result"
    }
   ],
   "source": [
    "x + y"
   ]
  },
  {
   "cell_type": "code",
   "execution_count": 53,
   "metadata": {},
   "outputs": [
    {
     "data": {
      "text/plain": [
       "'2.3.1'"
      ]
     },
     "execution_count": 53,
     "metadata": {},
     "output_type": "execute_result"
    }
   ],
   "source": [
    "torch.__version__"
   ]
  },
  {
   "cell_type": "code",
   "execution_count": 54,
   "metadata": {},
   "outputs": [
    {
     "data": {
      "text/plain": [
       "True"
      ]
     },
     "execution_count": 54,
     "metadata": {},
     "output_type": "execute_result"
    }
   ],
   "source": [
    "torch.cuda.is_available()"
   ]
  },
  {
   "cell_type": "code",
   "execution_count": 83,
   "metadata": {},
   "outputs": [],
   "source": [
    "# create a 0D tensor (scalar) from a Python integer\n",
    "tensor0d = torch.tensor(1)\n",
    "\n",
    "# create a 1D tensor (vector) from a Python list\n",
    "tensor1d = torch.tensor([1, 2, 3])\n",
    "\n",
    "# create a 2D tensor from a nested Python list\n",
    "tensor2d = torch.tensor([[1, 2, 3], [4, 5, 6]])\n",
    "\n",
    "# create a 3D tensor from a nested Python list\n",
    "tensor3d = torch.tensor([[[1, 2], [3, 4]], [[5, 6], [7, 8]]])"
   ]
  },
  {
   "cell_type": "code",
   "execution_count": 84,
   "metadata": {},
   "outputs": [
    {
     "data": {
      "text/plain": [
       "tensor([[1, 2, 3],\n",
       "        [4, 5, 6]])"
      ]
     },
     "execution_count": 84,
     "metadata": {},
     "output_type": "execute_result"
    }
   ],
   "source": [
    "tensor2d"
   ]
  },
  {
   "cell_type": "code",
   "execution_count": 86,
   "metadata": {},
   "outputs": [
    {
     "data": {
      "text/plain": [
       "tensor([[1, 4],\n",
       "        [2, 5],\n",
       "        [3, 6]])"
      ]
     },
     "execution_count": 86,
     "metadata": {},
     "output_type": "execute_result"
    }
   ],
   "source": [
    "tensor2d.T"
   ]
  },
  {
   "cell_type": "code",
   "execution_count": 93,
   "metadata": {},
   "outputs": [
    {
     "name": "stdout",
     "output_type": "stream",
     "text": [
      "tensor([-0.0898])\n",
      "tensor([-0.0817])\n"
     ]
    }
   ],
   "source": [
    "import torch.nn.functional as F\n",
    "from torch.autograd import grad\n",
    "\n",
    "y = torch.tensor([1.0])\n",
    "x1 = torch.tensor([1.1])\n",
    "w1 = torch.tensor([2.2], requires_grad=True)\n",
    "b = torch.tensor([0.0], requires_grad=True)\n",
    "\n",
    "z = x1 * w1 + b\n",
    "a = torch.sigmoid(z)\n",
    "\n",
    "loss = F.binary_cross_entropy(a, y)\n",
    "\n",
    "loss.backward()\n",
    "\n",
    "print(w1.grad)\n",
    "print(b.grad)"
   ]
  },
  {
   "cell_type": "code",
   "execution_count": 96,
   "metadata": {},
   "outputs": [],
   "source": [
    "class NeuralNetwork(torch.nn.Module):\n",
    "    def __init__(self, num_inputs, num_outputs):\n",
    "        super().__init__()\n",
    "\n",
    "        self.layers = torch.nn.Sequential(\n",
    "\n",
    "            # 1st hidden layer\n",
    "            torch.nn.Linear(num_inputs, 30),\n",
    "            torch.nn.ReLU(),\n",
    "\n",
    "            # 2nd hidden layer\n",
    "            torch.nn.Linear(30, 20),\n",
    "            torch.nn.ReLU(),\n",
    "\n",
    "            # output layer\n",
    "            torch.nn.Linear(20, num_outputs),\n",
    "        )\n",
    "\n",
    "    def forward(self, x):\n",
    "        logits = self.layers(x)\n",
    "        return logits"
   ]
  },
  {
   "cell_type": "code",
   "execution_count": 118,
   "metadata": {},
   "outputs": [
    {
     "name": "stdout",
     "output_type": "stream",
     "text": [
      "NeuralNetwork(\n",
      "  (layers): Sequential(\n",
      "    (0): Linear(in_features=50, out_features=30, bias=True)\n",
      "    (1): ReLU()\n",
      "    (2): Linear(in_features=30, out_features=20, bias=True)\n",
      "    (3): ReLU()\n",
      "    (4): Linear(in_features=20, out_features=3, bias=True)\n",
      "  )\n",
      ")\n",
      "Total number of trainable model parameters: 2213\n"
     ]
    }
   ],
   "source": [
    "torch.manual_seed(123)\n",
    "model = NeuralNetwork(50, 3)\n",
    "print(model)\n",
    "num_params = sum(\n",
    "    p.numel() for p in model.parameters() if p.requires_grad\n",
    ")\n",
    "print(\"Total number of trainable model parameters:\", num_params)"
   ]
  },
  {
   "cell_type": "code",
   "execution_count": 119,
   "metadata": {},
   "outputs": [
    {
     "data": {
      "text/plain": [
       "Parameter containing:\n",
       "tensor([[-0.0577,  0.0047, -0.0702,  ...,  0.0222,  0.1260,  0.0865],\n",
       "        [ 0.0502,  0.0307,  0.0333,  ...,  0.0951,  0.1134, -0.0297],\n",
       "        [ 0.1077, -0.1108,  0.0122,  ...,  0.0108, -0.1049, -0.1063],\n",
       "        ...,\n",
       "        [-0.0787,  0.1259,  0.0803,  ...,  0.1218,  0.1303, -0.1351],\n",
       "        [ 0.1359,  0.0175, -0.0673,  ...,  0.0674,  0.0676,  0.1058],\n",
       "        [ 0.0790,  0.1343, -0.0293,  ...,  0.0344, -0.0971, -0.0509]],\n",
       "       requires_grad=True)"
      ]
     },
     "execution_count": 119,
     "metadata": {},
     "output_type": "execute_result"
    }
   ],
   "source": [
    "model.layers[0].weight"
   ]
  },
  {
   "cell_type": "code",
   "execution_count": 120,
   "metadata": {},
   "outputs": [
    {
     "name": "stdout",
     "output_type": "stream",
     "text": [
      "torch.Size([30, 50])\n"
     ]
    }
   ],
   "source": [
    "print(model.layers[0].weight.shape)"
   ]
  },
  {
   "cell_type": "code",
   "execution_count": 122,
   "metadata": {},
   "outputs": [
    {
     "name": "stdout",
     "output_type": "stream",
     "text": [
      "tensor([[-0.1262,  0.1080, -0.1792]])\n"
     ]
    }
   ],
   "source": [
    "torch.manual_seed(123)\n",
    "\n",
    "X = torch.rand((1, 50))\n",
    "with torch.no_grad():\n",
    "    out = model(X)\n",
    "print(out)"
   ]
  },
  {
   "cell_type": "code",
   "execution_count": 123,
   "metadata": {},
   "outputs": [],
   "source": [
    "X_train = torch.tensor([\n",
    "    [-1.2, 3.1],\n",
    "    [-0.9, 2.9],\n",
    "    [-0.5, 2.6],\n",
    "    [2.3, -1.1],\n",
    "    [2.7, -1.5]\n",
    "])\n",
    "\n",
    "y_train = torch.tensor([0, 0, 0, 1, 1])\n",
    "\n",
    "X_test = torch.tensor([\n",
    "    [-0.8, 2.8],\n",
    "    [2.6, -1.6],\n",
    "])\n",
    "\n",
    "y_test = torch.tensor([0, 1])"
   ]
  },
  {
   "cell_type": "code",
   "execution_count": 124,
   "metadata": {},
   "outputs": [],
   "source": [
    "from torch.utils.data import Dataset\n",
    "\n",
    "\n",
    "class ToyDataset(Dataset):\n",
    "    def __init__(self, X, y):\n",
    "        self.features = X\n",
    "        self.labels = y\n",
    "\n",
    "    def __getitem__(self, index):\n",
    "        one_x = self.features[index]\n",
    "        one_y = self.labels[index]\n",
    "        return one_x, one_y\n",
    "\n",
    "    def __len__(self):\n",
    "        return self.labels.shape[0]\n",
    "\n",
    "\n",
    "train_ds = ToyDataset(X_train, y_train)\n",
    "test_ds = ToyDataset(X_test, y_test)"
   ]
  },
  {
   "cell_type": "code",
   "execution_count": 131,
   "metadata": {},
   "outputs": [
    {
     "name": "stdout",
     "output_type": "stream",
     "text": [
      "Batch 1: tensor([[ 2.3000, -1.1000],\n",
      "        [-0.9000,  2.9000]]) tensor([1, 0])\n",
      "Batch 2: tensor([[-1.2000,  3.1000],\n",
      "        [-0.5000,  2.6000]]) tensor([0, 0])\n"
     ]
    }
   ],
   "source": [
    "from torch.utils.data import DataLoader\n",
    "\n",
    "torch.manual_seed(123)\n",
    "\n",
    "train_loader = DataLoader(\n",
    "    dataset=train_ds,\n",
    "    batch_size=2,\n",
    "    shuffle=True,\n",
    "    num_workers=0,\n",
    "    drop_last=True\n",
    ")\n",
    "\n",
    "test_loader = DataLoader(\n",
    "    dataset=test_ds,\n",
    "    batch_size=2,\n",
    "    shuffle=False,\n",
    "    num_workers=0,\n",
    "    drop_last=True\n",
    ")\n",
    "\n",
    "for idx, (x, y) in enumerate(train_loader):\n",
    "    print(f\"Batch {idx+1}:\", x, y)"
   ]
  },
  {
   "cell_type": "code",
   "execution_count": 153,
   "metadata": {},
   "outputs": [
    {
     "name": "stdout",
     "output_type": "stream",
     "text": [
      "Epoch: 001/003 | Batch 000/002 | Train/Val Loss: 0.75\n",
      "Epoch: 001/003 | Batch 001/002 | Train/Val Loss: 0.65\n",
      "Epoch: 002/003 | Batch 000/002 | Train/Val Loss: 0.44\n",
      "Epoch: 002/003 | Batch 001/002 | Train/Val Loss: 0.13\n",
      "Epoch: 003/003 | Batch 000/002 | Train/Val Loss: 0.03\n",
      "Epoch: 003/003 | Batch 001/002 | Train/Val Loss: 0.00\n"
     ]
    }
   ],
   "source": [
    "torch.manual_seed(123)\n",
    "model = NeuralNetwork(num_inputs=2,num_outputs=2)\n",
    "\n",
    "#device = torch.device('cuda')\n",
    "device = torch.device(\"cuda\" if torch.cuda.is_available() else \"cpu\") # considered pytorch best practice\n",
    "model.to(device)\n",
    "\n",
    "optimizer = torch.optim.SGD(model.parameters(),lr=0.5)\n",
    "epochs = 3\n",
    "\n",
    "for epoch in range(epochs):\n",
    "\n",
    "    model.train()\n",
    "\n",
    "    for batch_idx, (features,labels) in enumerate(train_loader):\n",
    "        features,labels = features.to(device), labels.to(device)\n",
    "\n",
    "        logits = model(features)\n",
    "        loss = F.cross_entropy(logits,labels)\n",
    "        \n",
    "        optimizer.zero_grad()\n",
    "        loss.backward()\n",
    "        optimizer.step()\n",
    "\n",
    "        print(f\"Epoch: {epoch+1:03d}/{epochs:03d}\" f\" | Batch {batch_idx:03d}/{len(train_loader):03d}\" f\" | Train/Val Loss: {loss:.2f}\")\n",
    "      \n",
    "    model.eval()"
   ]
  },
  {
   "cell_type": "code",
   "execution_count": 143,
   "metadata": {},
   "outputs": [
    {
     "name": "stdout",
     "output_type": "stream",
     "text": [
      "tensor([[ 2.8569, -4.1618],\n",
      "        [ 2.5382, -3.7548],\n",
      "        [ 2.0944, -3.1820],\n",
      "        [-1.4814,  1.4816],\n",
      "        [-1.7176,  1.7342]])\n",
      "tensor([[    0.9991,     0.0009],\n",
      "        [    0.9982,     0.0018],\n",
      "        [    0.9949,     0.0051],\n",
      "        [    0.0491,     0.9509],\n",
      "        [    0.0307,     0.9693]])\n",
      "tensor([0, 0, 0, 1, 1])\n",
      "tensor([0, 0, 0, 1, 1])\n"
     ]
    }
   ],
   "source": [
    "# can make predictions\n",
    "model.eval()\n",
    "with torch.no_grad():\n",
    "    outputs = model(X_train) # logits\n",
    "print(outputs)\n",
    "\n",
    "torch.set_printoptions(sci_mode=False) \n",
    "probs = torch.softmax(outputs,dim=1) # class probas\n",
    "print(probs)\n",
    "\n",
    "preds = torch.argmax(probs,dim=1) # convert probas to class preds\n",
    "print(preds)\n",
    " \n",
    "preds = torch.argmax(outputs,dim=1) # could also get preds direct from logits\n",
    "print(preds)"
   ]
  },
  {
   "cell_type": "code",
   "execution_count": 146,
   "metadata": {},
   "outputs": [
    {
     "data": {
      "text/plain": [
       "tensor(100.)"
      ]
     },
     "execution_count": 146,
     "metadata": {},
     "output_type": "execute_result"
    }
   ],
   "source": [
    "(torch.sum(preds == y_train) / len(y_train))*100 # acc"
   ]
  },
  {
   "cell_type": "code",
   "execution_count": 148,
   "metadata": {},
   "outputs": [
    {
     "name": "stdout",
     "output_type": "stream",
     "text": [
      "layers.0.weight\n",
      "layers.0.bias\n",
      "layers.2.weight\n",
      "layers.2.bias\n",
      "layers.4.weight\n",
      "layers.4.bias\n"
     ]
    }
   ],
   "source": [
    "for key in model.state_dict(): \n",
    "    print(key)"
   ]
  },
  {
   "cell_type": "code",
   "execution_count": 149,
   "metadata": {},
   "outputs": [],
   "source": [
    "torch.save(model.state_dict(),\"model_test.pth\")"
   ]
  },
  {
   "cell_type": "code",
   "execution_count": 150,
   "metadata": {},
   "outputs": [
    {
     "data": {
      "text/plain": [
       "<All keys matched successfully>"
      ]
     },
     "execution_count": 150,
     "metadata": {},
     "output_type": "execute_result"
    }
   ],
   "source": [
    "model = NeuralNetwork(2,2)\n",
    "model.load_state_dict(torch.load(\"model_test.pth\", weights_only=True))"
   ]
  },
  {
   "cell_type": "code",
   "execution_count": null,
   "metadata": {},
   "outputs": [],
   "source": [
    "#model = MyTransformerDecoderModel(...)\n",
    "#model = model.half().cuda()  # Use float16 to save VRAM\n",
    "\n",
    "# Check memory usage\n",
    "#print(torch.cuda.memory_allocated() / 1024 ** 2, \"MB allocated\")"
   ]
  },
  {
   "cell_type": "code",
   "execution_count": 163,
   "metadata": {},
   "outputs": [
    {
     "name": "stdout",
     "output_type": "stream",
     "text": [
      "tensor([[[ 1.6782,  0.0878,  1.1767],\n",
      "         [-0.1191,  0.2469,  0.6126]],\n",
      "\n",
      "        [[-0.3501,  0.2827, -0.0036],\n",
      "         [ 0.7141, -1.0415,  0.0298]]])\n",
      "torch.Size([2, 2, 3])\n",
      "\n",
      "tensor([[[ 1.7629,  0.0267,  0.6328],\n",
      "         [ 0.0105,  1.2284, -0.4705]],\n",
      "\n",
      "        [[-0.5538, -0.2770, -0.9325],\n",
      "         [-0.5085, -0.0058, -0.4462]]])\n",
      "torch.Size([2, 2, 3])\n"
     ]
    }
   ],
   "source": [
    "x = torch.randn(2,2,3)\n",
    "y = torch.randn(2,2,3)\n",
    "y = y.view()\n",
    "print(x)\n",
    "print(x.shape)\n",
    "print(\"\")\n",
    "print(y)\n",
    "print(y.shape)"
   ]
  },
  {
   "cell_type": "code",
   "execution_count": 170,
   "metadata": {},
   "outputs": [
    {
     "name": "stdout",
     "output_type": "stream",
     "text": [
      "Vocab size: 50257\n",
      "[15496, 11, 17068, 43737, 75, 3754, 13]\n",
      "Hello, Marcus Aurelius.\n"
     ]
    }
   ],
   "source": [
    "enc = tiktoken.get_encoding(\"gpt2\")\n",
    "vocab_size = enc.n_vocab\n",
    "print(f\"Vocab size: {vocab_size}\")\n",
    "es = enc.encode(\"Hello, Marcus Aurelius.\")\n",
    "print(es)\n",
    "ds = enc.decode(es)\n",
    "print(ds)"
   ]
  },
  {
   "cell_type": "code",
   "execution_count": 301,
   "metadata": {},
   "outputs": [],
   "source": [
    "# optimal mha\n",
    "# no loops, one big matrix \n",
    "B = 2\n",
    "T = 2\n",
    "d = 3\n",
    "hd = 3 # in practice it will be d // n_heads\n",
    "nh = 3 # num heads\n",
    "\n",
    "#X = torch.randint(low=1,high=9,size=(B,T,d))\n",
    "X = torch.randn((B,T,d))"
   ]
  },
  {
   "cell_type": "code",
   "execution_count": 302,
   "metadata": {},
   "outputs": [
    {
     "name": "stdout",
     "output_type": "stream",
     "text": [
      "tensor([[[-0.6271,  0.5224,  0.1951,  0.3762,  0.1657, -0.0828, -0.4390,\n",
      "          -0.6100, -0.5298, -0.5523, -0.0427, -0.0018,  0.4463, -0.1734,\n",
      "          -0.4770, -0.3574,  0.4644,  0.3374,  0.2257, -0.3733,  0.0748,\n",
      "          -0.1851,  0.2172,  0.0971,  0.3903, -0.0038,  0.6534],\n",
      "         [-0.8362, -0.4417, -0.8353,  0.0167,  0.8215, -0.6877, -0.6109,\n",
      "          -1.2496, -0.9900, -0.6647,  0.4168, -0.2292,  0.8116, -0.3229,\n",
      "           0.3085,  0.3755,  0.0404,  0.7712,  0.3532, -0.4491,  0.3014,\n",
      "           0.3019, -0.1068,  0.1887,  1.2488,  0.1411,  0.7244]],\n",
      "\n",
      "        [[-0.6630,  1.1565,  0.9561,  0.4523, -0.3095,  0.4146, -0.5492,\n",
      "          -0.3754, -0.3325, -0.5808, -0.1150,  0.0276,  0.0410, -0.2123,\n",
      "          -0.8457, -0.8997,  0.6915, -0.1161,  0.1741, -0.3182, -0.1620,\n",
      "          -0.2061,  0.2560, -0.1475, -0.2548,  0.2797,  0.8447],\n",
      "         [-1.0123, -0.0897, -0.4756, -0.0057,  0.7449, -0.3089, -0.7296,\n",
      "          -1.0994, -0.7219, -0.3114,  0.0220, -0.5110,  0.3338, -0.6215,\n",
      "           0.0346,  0.2182, -0.0973,  0.0234,  0.4594, -0.1749,  0.1181,\n",
      "           0.1250, -0.2847, -0.1004,  1.0077,  0.0927,  1.0720]]],\n",
      "       grad_fn=<ViewBackward0>)\n"
     ]
    },
    {
     "data": {
      "text/plain": [
       "torch.Size([2, 2, 27])"
      ]
     },
     "execution_count": 302,
     "metadata": {},
     "output_type": "execute_result"
    }
   ],
   "source": [
    "ll = torch.nn.Linear(d,3*hd*nh,bias=True)\n",
    "QKV = ll(X)\n",
    "print(QKV)\n",
    "QKV.shape"
   ]
  },
  {
   "cell_type": "code",
   "execution_count": 303,
   "metadata": {},
   "outputs": [
    {
     "name": "stdout",
     "output_type": "stream",
     "text": [
      "torch.Size([2, 2, 3, 3, 3])\n"
     ]
    }
   ],
   "source": [
    "print(QKV.view(B,T,nh,3,hd).shape)\n",
    "qkv = QKV.view(B,T,nh,3,hd) "
   ]
  },
  {
   "cell_type": "code",
   "execution_count": 304,
   "metadata": {},
   "outputs": [
    {
     "data": {
      "text/plain": [
       "tensor([[[ 0.3762,  0.1657, -0.0828],\n",
       "         [ 0.0167,  0.8215, -0.6877]],\n",
       "\n",
       "        [[ 0.4523, -0.3095,  0.4146],\n",
       "         [-0.0057,  0.7449, -0.3089]]], grad_fn=<SliceBackward0>)"
      ]
     },
     "execution_count": 304,
     "metadata": {},
     "output_type": "execute_result"
    }
   ],
   "source": [
    "qkv[:,:,0,1,:] # K of head 1"
   ]
  },
  {
   "cell_type": "code",
   "execution_count": 305,
   "metadata": {},
   "outputs": [
    {
     "data": {
      "text/plain": [
       "tensor([[[[ 0.3762,  0.1657, -0.0828],\n",
       "          [ 0.4463, -0.1734, -0.4770],\n",
       "          [-0.1851,  0.2172,  0.0971]],\n",
       "\n",
       "         [[ 0.0167,  0.8215, -0.6877],\n",
       "          [ 0.8116, -0.3229,  0.3085],\n",
       "          [ 0.3019, -0.1068,  0.1887]]],\n",
       "\n",
       "\n",
       "        [[[ 0.4523, -0.3095,  0.4146],\n",
       "          [ 0.0410, -0.2123, -0.8457],\n",
       "          [-0.2061,  0.2560, -0.1475]],\n",
       "\n",
       "         [[-0.0057,  0.7449, -0.3089],\n",
       "          [ 0.3338, -0.6215,  0.0346],\n",
       "          [ 0.1250, -0.2847, -0.1004]]]], grad_fn=<SliceBackward0>)"
      ]
     },
     "execution_count": 305,
     "metadata": {},
     "output_type": "execute_result"
    }
   ],
   "source": [
    "qkv[:,:,:,1,:] # All Ks"
   ]
  },
  {
   "cell_type": "code",
   "execution_count": 306,
   "metadata": {},
   "outputs": [
    {
     "name": "stdout",
     "output_type": "stream",
     "text": [
      "tensor([[[[-0.1655, -0.4635,  0.2485],\n",
      "          [-0.2147, -0.2382,  0.0928],\n",
      "          [ 0.0169,  0.1298, -0.1156]],\n",
      "\n",
      "         [[ 0.1977, -0.7937, -0.3629],\n",
      "          [ 0.4888, -0.7448, -0.2885],\n",
      "          [-0.5703,  0.5247,  0.2115]]],\n",
      "\n",
      "\n",
      "        [[[-0.2614, -1.0813,  0.2916],\n",
      "          [-0.2156, -0.0228,  0.0862],\n",
      "          [ 0.1101,  0.2117, -0.0934]],\n",
      "\n",
      "         [[ 0.0858, -0.2987, -0.0533],\n",
      "          [ 0.1760, -0.1353,  0.0061],\n",
      "          [-0.1693,  0.2661,  0.0954]]]], grad_fn=<UnsafeViewBackward0>)\n",
      "torch.Size([2, 2, 3, 3])\n"
     ]
    }
   ],
   "source": [
    "# Q @ K.T for all heads\n",
    "attn_matrix = qkv[:,:,:,0,:] @ qkv[:,:,:,1,:].transpose(-2,-1)\n",
    "# [2, 2, 3, 4] @ [2, 2, 4, 3] = [2, 2, 3, 3]\n",
    "# [B, T, nh, hd] @ [B, T, hd, nh] = [B, T, nh, nh] --> the attention matrix for each head of each sequence of each batch\n",
    "print(attn_matrix)\n",
    "print(attn_matrix.shape)"
   ]
  },
  {
   "cell_type": "code",
   "execution_count": 271,
   "metadata": {},
   "outputs": [
    {
     "data": {
      "text/plain": [
       "tensor([[[-0.1726, -0.5149,  0.1027,  0.4157],\n",
       "         [ 1.1429, -0.8068, -1.0322, -0.0285]],\n",
       "\n",
       "        [[ 1.1552, -0.7293, -1.1359,  0.1179],\n",
       "         [ 0.8145, -1.0387, -1.1086,  0.8708]]], grad_fn=<SliceBackward0>)"
      ]
     },
     "execution_count": 271,
     "metadata": {},
     "output_type": "execute_result"
    }
   ],
   "source": [
    "qkv[:,:,0,0,:] # Q of head 1 across batches"
   ]
  },
  {
   "cell_type": "code",
   "execution_count": 273,
   "metadata": {},
   "outputs": [
    {
     "data": {
      "text/plain": [
       "tensor([[[ 0.7306,  0.6166,  0.1692, -0.8864],\n",
       "         [ 1.4255,  0.9988, -0.5525,  0.1607]],\n",
       "\n",
       "        [[ 1.0821,  0.6627, -0.3456,  0.1858],\n",
       "         [ 0.1764, -0.4642,  0.7496, -0.0987]]], grad_fn=<SliceBackward0>)"
      ]
     },
     "execution_count": 273,
     "metadata": {},
     "output_type": "execute_result"
    }
   ],
   "source": [
    "qkv[:,:,1,0,:] # Q of head 2 across batches"
   ]
  },
  {
   "cell_type": "code",
   "execution_count": 254,
   "metadata": {},
   "outputs": [
    {
     "data": {
      "text/plain": [
       "tensor([[[-0.1726, -0.5149,  0.1027,  0.4157],\n",
       "         [ 1.1429, -0.8068, -1.0322, -0.0285]],\n",
       "\n",
       "        [[ 1.1552, -0.7293, -1.1359,  0.1179],\n",
       "         [ 0.8145, -1.0387, -1.1086,  0.8708]]], grad_fn=<SliceBackward0>)"
      ]
     },
     "execution_count": 254,
     "metadata": {},
     "output_type": "execute_result"
    }
   ],
   "source": [
    "QKV[:,:,0*hd:1*hd] # Q of head 1 across batches\n",
    "#QKV[:,:,1*hd:2*hd] # K of head 1\n",
    "#QKV[:,:,2*hd:3*hd] # V of head 1"
   ]
  },
  {
   "cell_type": "code",
   "execution_count": null,
   "metadata": {},
   "outputs": [
    {
     "data": {
      "text/plain": [
       "tensor([[[ 0.7306,  0.6166,  0.1692, -0.8864],\n",
       "         [ 1.4255,  0.9988, -0.5525,  0.1607]],\n",
       "\n",
       "        [[ 1.0821,  0.6627, -0.3456,  0.1858],\n",
       "         [ 0.1764, -0.4642,  0.7496, -0.0987]]], grad_fn=<SliceBackward0>)"
      ]
     },
     "execution_count": 253,
     "metadata": {},
     "output_type": "execute_result"
    }
   ],
   "source": [
    "QKV[:,:,3*hd:4*hd] # Q of head 2"
   ]
  },
  {
   "cell_type": "code",
   "execution_count": 238,
   "metadata": {},
   "outputs": [
    {
     "data": {
      "text/plain": [
       "tensor([[[ 0.6610,  0.3774],\n",
       "         [-1.3176,  0.1476]],\n",
       "\n",
       "        [[ 1.1538,  1.1550],\n",
       "         [ 0.7298,  0.6045]]], grad_fn=<UnsafeViewBackward0>)"
      ]
     },
     "execution_count": 238,
     "metadata": {},
     "output_type": "execute_result"
    }
   ],
   "source": [
    "# Q @ K.T\n",
    "QKV[:,:,:hd] @ QKV[:,:,hd:2*hd].transpose(-2,-1)\n",
    "# [B,T,hd] @ [B,hd,T] --> [B,T,T]"
   ]
  }
 ],
 "metadata": {
  "kernelspec": {
   "display_name": "base",
   "language": "python",
   "name": "python3"
  },
  "language_info": {
   "codemirror_mode": {
    "name": "ipython",
    "version": 3
   },
   "file_extension": ".py",
   "mimetype": "text/x-python",
   "name": "python",
   "nbconvert_exporter": "python",
   "pygments_lexer": "ipython3",
   "version": "3.11.7"
  }
 },
 "nbformat": 4,
 "nbformat_minor": 2
}
