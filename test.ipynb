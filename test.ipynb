{
 "cells": [
  {
   "cell_type": "code",
   "execution_count": 1,
   "metadata": {},
   "outputs": [],
   "source": [
    "import numpy as np \n",
    "import pandas as pd\n",
    "import torch\n",
    "import tiktoken "
   ]
  },
  {
   "cell_type": "code",
   "execution_count": null,
   "metadata": {},
   "outputs": [],
   "source": [
    "x = np.array([[1,2,3]])\n",
    "print(x.shape)\n",
    "x"
   ]
  },
  {
   "cell_type": "code",
   "execution_count": null,
   "metadata": {},
   "outputs": [],
   "source": [
    "y = np.array([[1],[2],[3]])\n",
    "print(y.shape)\n",
    "y"
   ]
  },
  {
   "cell_type": "code",
   "execution_count": null,
   "metadata": {},
   "outputs": [],
   "source": [
    "x + y"
   ]
  },
  {
   "cell_type": "code",
   "execution_count": null,
   "metadata": {},
   "outputs": [],
   "source": [
    "torch.__version__"
   ]
  },
  {
   "cell_type": "code",
   "execution_count": null,
   "metadata": {},
   "outputs": [],
   "source": [
    "torch.cuda.is_available()"
   ]
  },
  {
   "cell_type": "code",
   "execution_count": null,
   "metadata": {},
   "outputs": [],
   "source": [
    "# create a 0D tensor (scalar) from a Python integer\n",
    "tensor0d = torch.tensor(1)\n",
    "\n",
    "# create a 1D tensor (vector) from a Python list\n",
    "tensor1d = torch.tensor([1, 2, 3])\n",
    "\n",
    "# create a 2D tensor from a nested Python list\n",
    "tensor2d = torch.tensor([[1, 2, 3], [4, 5, 6]])\n",
    "\n",
    "# create a 3D tensor from a nested Python list\n",
    "tensor3d = torch.tensor([[[1, 2], [3, 4]], [[5, 6], [7, 8]]])"
   ]
  },
  {
   "cell_type": "code",
   "execution_count": null,
   "metadata": {},
   "outputs": [],
   "source": [
    "tensor2d"
   ]
  },
  {
   "cell_type": "code",
   "execution_count": null,
   "metadata": {},
   "outputs": [],
   "source": [
    "tensor2d.T"
   ]
  },
  {
   "cell_type": "code",
   "execution_count": null,
   "metadata": {},
   "outputs": [],
   "source": [
    "import torch.nn.functional as F\n",
    "from torch.autograd import grad\n",
    "\n",
    "y = torch.tensor([1.0])\n",
    "x1 = torch.tensor([1.1])\n",
    "w1 = torch.tensor([2.2], requires_grad=True)\n",
    "b = torch.tensor([0.0], requires_grad=True)\n",
    "\n",
    "z = x1 * w1 + b\n",
    "a = torch.sigmoid(z)\n",
    "\n",
    "loss = F.binary_cross_entropy(a, y)\n",
    "\n",
    "loss.backward()\n",
    "\n",
    "print(w1.grad)\n",
    "print(b.grad)"
   ]
  },
  {
   "cell_type": "code",
   "execution_count": null,
   "metadata": {},
   "outputs": [],
   "source": [
    "class NeuralNetwork(torch.nn.Module):\n",
    "    def __init__(self, num_inputs, num_outputs):\n",
    "        super().__init__()\n",
    "\n",
    "        self.layers = torch.nn.Sequential(\n",
    "\n",
    "            # 1st hidden layer\n",
    "            torch.nn.Linear(num_inputs, 30),\n",
    "            torch.nn.ReLU(),\n",
    "\n",
    "            # 2nd hidden layer\n",
    "            torch.nn.Linear(30, 20),\n",
    "            torch.nn.ReLU(),\n",
    "\n",
    "            # output layer\n",
    "            torch.nn.Linear(20, num_outputs),\n",
    "        )\n",
    "\n",
    "    def forward(self, x):\n",
    "        logits = self.layers(x)\n",
    "        return logits"
   ]
  },
  {
   "cell_type": "code",
   "execution_count": null,
   "metadata": {},
   "outputs": [],
   "source": [
    "torch.manual_seed(123)\n",
    "model = NeuralNetwork(50, 3)\n",
    "print(model)\n",
    "num_params = sum(\n",
    "    p.numel() for p in model.parameters() if p.requires_grad\n",
    ")\n",
    "print(\"Total number of trainable model parameters:\", num_params)"
   ]
  },
  {
   "cell_type": "code",
   "execution_count": null,
   "metadata": {},
   "outputs": [],
   "source": [
    "model.layers[0].weight"
   ]
  },
  {
   "cell_type": "code",
   "execution_count": null,
   "metadata": {},
   "outputs": [],
   "source": [
    "print(model.layers[0].weight.shape)"
   ]
  },
  {
   "cell_type": "code",
   "execution_count": null,
   "metadata": {},
   "outputs": [],
   "source": [
    "torch.manual_seed(123)\n",
    "\n",
    "X = torch.rand((1, 50))\n",
    "with torch.no_grad():\n",
    "    out = model(X)\n",
    "print(out)"
   ]
  },
  {
   "cell_type": "code",
   "execution_count": null,
   "metadata": {},
   "outputs": [],
   "source": [
    "X_train = torch.tensor([\n",
    "    [-1.2, 3.1],\n",
    "    [-0.9, 2.9],\n",
    "    [-0.5, 2.6],\n",
    "    [2.3, -1.1],\n",
    "    [2.7, -1.5]\n",
    "])\n",
    "\n",
    "y_train = torch.tensor([0, 0, 0, 1, 1])\n",
    "\n",
    "X_test = torch.tensor([\n",
    "    [-0.8, 2.8],\n",
    "    [2.6, -1.6],\n",
    "])\n",
    "\n",
    "y_test = torch.tensor([0, 1])"
   ]
  },
  {
   "cell_type": "code",
   "execution_count": null,
   "metadata": {},
   "outputs": [],
   "source": [
    "from torch.utils.data import Dataset\n",
    "\n",
    "\n",
    "class ToyDataset(Dataset):\n",
    "    def __init__(self, X, y):\n",
    "        self.features = X\n",
    "        self.labels = y\n",
    "\n",
    "    def __getitem__(self, index):\n",
    "        one_x = self.features[index]\n",
    "        one_y = self.labels[index]\n",
    "        return one_x, one_y\n",
    "\n",
    "    def __len__(self):\n",
    "        return self.labels.shape[0]\n",
    "\n",
    "\n",
    "train_ds = ToyDataset(X_train, y_train)\n",
    "test_ds = ToyDataset(X_test, y_test)"
   ]
  },
  {
   "cell_type": "code",
   "execution_count": null,
   "metadata": {},
   "outputs": [],
   "source": [
    "from torch.utils.data import DataLoader\n",
    "\n",
    "torch.manual_seed(123)\n",
    "\n",
    "train_loader = DataLoader(\n",
    "    dataset=train_ds,\n",
    "    batch_size=2,\n",
    "    shuffle=True,\n",
    "    num_workers=0,\n",
    "    drop_last=True\n",
    ")\n",
    "\n",
    "test_loader = DataLoader(\n",
    "    dataset=test_ds,\n",
    "    batch_size=2,\n",
    "    shuffle=False,\n",
    "    num_workers=0,\n",
    "    drop_last=True\n",
    ")\n",
    "\n",
    "for idx, (x, y) in enumerate(train_loader):\n",
    "    print(f\"Batch {idx+1}:\", x, y)"
   ]
  },
  {
   "cell_type": "code",
   "execution_count": null,
   "metadata": {},
   "outputs": [],
   "source": [
    "torch.manual_seed(123)\n",
    "model = NeuralNetwork(num_inputs=2,num_outputs=2)\n",
    "\n",
    "#device = torch.device('cuda')\n",
    "device = torch.device(\"cuda\" if torch.cuda.is_available() else \"cpu\") # considered pytorch best practice\n",
    "model.to(device)\n",
    "\n",
    "optimizer = torch.optim.SGD(model.parameters(),lr=0.5)\n",
    "epochs = 3\n",
    "\n",
    "for epoch in range(epochs):\n",
    "\n",
    "    model.train()\n",
    "\n",
    "    for batch_idx, (features,labels) in enumerate(train_loader):\n",
    "        features,labels = features.to(device), labels.to(device)\n",
    "\n",
    "        logits = model(features)\n",
    "        loss = F.cross_entropy(logits,labels)\n",
    "        \n",
    "        optimizer.zero_grad()\n",
    "        loss.backward()\n",
    "        optimizer.step()\n",
    "\n",
    "        print(f\"Epoch: {epoch+1:03d}/{epochs:03d}\" f\" | Batch {batch_idx:03d}/{len(train_loader):03d}\" f\" | Train/Val Loss: {loss:.2f}\")\n",
    "      \n",
    "    model.eval()"
   ]
  },
  {
   "cell_type": "code",
   "execution_count": null,
   "metadata": {},
   "outputs": [],
   "source": [
    "# can make predictions\n",
    "model.eval()\n",
    "with torch.no_grad():\n",
    "    outputs = model(X_train) # logits\n",
    "print(outputs)\n",
    "\n",
    "torch.set_printoptions(sci_mode=False) \n",
    "probs = torch.softmax(outputs,dim=1) # class probas\n",
    "print(probs)\n",
    "\n",
    "preds = torch.argmax(probs,dim=1) # convert probas to class preds\n",
    "print(preds)\n",
    " \n",
    "preds = torch.argmax(outputs,dim=1) # could also get preds direct from logits\n",
    "print(preds)"
   ]
  },
  {
   "cell_type": "code",
   "execution_count": null,
   "metadata": {},
   "outputs": [],
   "source": [
    "(torch.sum(preds == y_train) / len(y_train))*100 # acc"
   ]
  },
  {
   "cell_type": "code",
   "execution_count": null,
   "metadata": {},
   "outputs": [],
   "source": [
    "for key in model.state_dict(): \n",
    "    print(key)"
   ]
  },
  {
   "cell_type": "code",
   "execution_count": null,
   "metadata": {},
   "outputs": [],
   "source": [
    "torch.save(model.state_dict(),\"model_test.pth\")"
   ]
  },
  {
   "cell_type": "code",
   "execution_count": null,
   "metadata": {},
   "outputs": [],
   "source": [
    "model = NeuralNetwork(2,2)\n",
    "model.load_state_dict(torch.load(\"model_test.pth\", weights_only=True))"
   ]
  },
  {
   "cell_type": "code",
   "execution_count": null,
   "metadata": {},
   "outputs": [],
   "source": [
    "#model = MyTransformerDecoderModel(...)\n",
    "#model = model.half().cuda()  # Use float16 to save VRAM\n",
    "\n",
    "# Check memory usage\n",
    "#print(torch.cuda.memory_allocated() / 1024 ** 2, \"MB allocated\")"
   ]
  },
  {
   "cell_type": "code",
   "execution_count": null,
   "metadata": {},
   "outputs": [],
   "source": [
    "x = torch.randn(2,2,3)\n",
    "y = torch.randn(2,2,3)\n",
    "y = y.view()\n",
    "print(x)\n",
    "print(x.shape)\n",
    "print(\"\")\n",
    "print(y)\n",
    "print(y.shape)"
   ]
  },
  {
   "cell_type": "code",
   "execution_count": null,
   "metadata": {},
   "outputs": [],
   "source": [
    "enc = tiktoken.get_encoding(\"gpt2\")\n",
    "vocab_size = enc.n_vocab\n",
    "print(f\"Vocab size: {vocab_size}\")\n",
    "es = enc.encode(\"Hello, Marcus Aurelius.\")\n",
    "print(es)\n",
    "ds = enc.decode(es)\n",
    "print(ds)"
   ]
  },
  {
   "cell_type": "markdown",
   "metadata": {},
   "source": [
    "### Multi-head tensor"
   ]
  },
  {
   "cell_type": "code",
   "execution_count": 3,
   "metadata": {},
   "outputs": [],
   "source": [
    "# optimal mha\n",
    "# no loops, one big matrix \n",
    "B = 2 # batch size\n",
    "T = 2 # sequence length\n",
    "d = 3 # emebedding dim \n",
    "hd = 4 # head dim, in practice it will be d // n_heads\n",
    "nh = 3 # num heads\n",
    "\n",
    "#X = torch.randint(low=1,high=9,size=(B,T,d))\n",
    "X = torch.randn((B,T,d))"
   ]
  },
  {
   "cell_type": "code",
   "execution_count": null,
   "metadata": {},
   "outputs": [],
   "source": [
    "ll = torch.nn.Linear(d,3*hd*nh,bias=True)\n",
    "QKV = ll(X)\n",
    "print(QKV)\n",
    "QKV.shape"
   ]
  },
  {
   "cell_type": "code",
   "execution_count": null,
   "metadata": {},
   "outputs": [],
   "source": [
    "qkv = QKV.view(B,T,nh,3,hd) \n",
    "print(qkv.shape)\n",
    "\n",
    "#qkv = QKV.view(B,nh,3,T,hd)\n",
    "#print(qkv.shape)"
   ]
  },
  {
   "cell_type": "code",
   "execution_count": null,
   "metadata": {},
   "outputs": [],
   "source": [
    "qkv[:,:,0,1,:] # K of head 1"
   ]
  },
  {
   "cell_type": "code",
   "execution_count": null,
   "metadata": {},
   "outputs": [],
   "source": [
    "qkv[:,:,:,1,:] # All Ks"
   ]
  },
  {
   "cell_type": "code",
   "execution_count": null,
   "metadata": {},
   "outputs": [],
   "source": [
    "# Q @ K.T for all heads\n",
    "attn_matrix = qkv[:,:,:,0,:] @ qkv[:,:,:,1,:].transpose(-2,-1)\n",
    "# [2, 2, 3, 4] @ [2, 2, 4, 3] = [2, 2, 3, 3]\n",
    "# [B, T, nh, hd] @ [B, T, hd, nh] = [B, T, nh, nh] --> the attention matrix for each head of each sequence of each batch\n",
    "print(attn_matrix)\n",
    "print(attn_matrix.shape)"
   ]
  },
  {
   "cell_type": "code",
   "execution_count": null,
   "metadata": {},
   "outputs": [],
   "source": [
    "qkv[:,:,0,0,:] # Q of head 1 across batches"
   ]
  },
  {
   "cell_type": "code",
   "execution_count": null,
   "metadata": {},
   "outputs": [],
   "source": [
    "qkv[:,:,1,0,:] # Q of head 2 across batches"
   ]
  },
  {
   "cell_type": "code",
   "execution_count": null,
   "metadata": {},
   "outputs": [],
   "source": [
    "QKV[:,:,0*hd:1*hd] # Q of head 1 across batches\n",
    "#QKV[:,:,1*hd:2*hd] # K of head 1\n",
    "#QKV[:,:,2*hd:3*hd] # V of head 1\n",
    "#QKV[:,:,3*hd:4*hd] # Q of head 2"
   ]
  },
  {
   "cell_type": "code",
   "execution_count": null,
   "metadata": {},
   "outputs": [],
   "source": [
    "# Q @ K.T\n",
    "QKV[:,:,:hd] @ QKV[:,:,hd:2*hd].transpose(-2,-1)\n",
    "# [B,T,hd] @ [B,hd,T] --> [B,T,T]"
   ]
  },
  {
   "cell_type": "markdown",
   "metadata": {},
   "source": [
    "### Playing around with view()"
   ]
  },
  {
   "cell_type": "markdown",
   "metadata": {},
   "source": [
    "simulate self attention calculation"
   ]
  },
  {
   "cell_type": "code",
   "execution_count": 85,
   "metadata": {},
   "outputs": [
    {
     "data": {
      "text/plain": [
       "tensor([[[  1,   2,   3,   4,   5,   6,   7,   8,   9,  10,  11,  12,  13,  14,\n",
       "           15,  16,  17,  18,  19,  20,  21,  22,  23,  24,  25,  26,  27,  28,\n",
       "           29,  30,  31,  32,  33,  34,  35,  36],\n",
       "         [ 37,  38,  39,  40,  41,  42,  43,  44,  45,  46,  47,  48,  49,  50,\n",
       "           51,  52,  53,  54,  55,  56,  57,  58,  59,  60,  61,  62,  63,  64,\n",
       "           65,  66,  67,  68,  69,  70,  71,  72]],\n",
       "\n",
       "        [[ 73,  74,  75,  76,  77,  78,  79,  80,  81,  82,  83,  84,  85,  86,\n",
       "           87,  88,  89,  90,  91,  92,  93,  94,  95,  96,  97,  98,  99, 100,\n",
       "          101, 102, 103, 104, 105, 106, 107, 108],\n",
       "         [109, 110, 111, 112, 113, 114, 115, 116, 117, 118, 119, 120, 121, 122,\n",
       "          123, 124, 125, 126, 127, 128, 129, 130, 131, 132, 133, 134, 135, 136,\n",
       "          137, 138, 139, 140, 141, 142, 143, 144]]])"
      ]
     },
     "execution_count": 85,
     "metadata": {},
     "output_type": "execute_result"
    }
   ],
   "source": [
    "total = B*T*hd*nh*3\n",
    "QKV = torch.arange(1,total+1).view(B,T,nh*3*hd)\n",
    "#QKV = torch.randn(B,T,nh*3*hd)\n",
    "QKV # output of linear layer [B,T,KQV*nh*hd]"
   ]
  },
  {
   "cell_type": "code",
   "execution_count": 86,
   "metadata": {},
   "outputs": [
    {
     "data": {
      "text/plain": [
       "tensor([[[[[  1,   2,   3,   4],\n",
       "           [  5,   6,   7,   8],\n",
       "           [  9,  10,  11,  12]],\n",
       "\n",
       "          [[ 13,  14,  15,  16],\n",
       "           [ 17,  18,  19,  20],\n",
       "           [ 21,  22,  23,  24]]],\n",
       "\n",
       "\n",
       "         [[[ 25,  26,  27,  28],\n",
       "           [ 29,  30,  31,  32],\n",
       "           [ 33,  34,  35,  36]],\n",
       "\n",
       "          [[ 37,  38,  39,  40],\n",
       "           [ 41,  42,  43,  44],\n",
       "           [ 45,  46,  47,  48]]],\n",
       "\n",
       "\n",
       "         [[[ 49,  50,  51,  52],\n",
       "           [ 53,  54,  55,  56],\n",
       "           [ 57,  58,  59,  60]],\n",
       "\n",
       "          [[ 61,  62,  63,  64],\n",
       "           [ 65,  66,  67,  68],\n",
       "           [ 69,  70,  71,  72]]]],\n",
       "\n",
       "\n",
       "\n",
       "        [[[[ 73,  74,  75,  76],\n",
       "           [ 77,  78,  79,  80],\n",
       "           [ 81,  82,  83,  84]],\n",
       "\n",
       "          [[ 85,  86,  87,  88],\n",
       "           [ 89,  90,  91,  92],\n",
       "           [ 93,  94,  95,  96]]],\n",
       "\n",
       "\n",
       "         [[[ 97,  98,  99, 100],\n",
       "           [101, 102, 103, 104],\n",
       "           [105, 106, 107, 108]],\n",
       "\n",
       "          [[109, 110, 111, 112],\n",
       "           [113, 114, 115, 116],\n",
       "           [117, 118, 119, 120]]],\n",
       "\n",
       "\n",
       "         [[[121, 122, 123, 124],\n",
       "           [125, 126, 127, 128],\n",
       "           [129, 130, 131, 132]],\n",
       "\n",
       "          [[133, 134, 135, 136],\n",
       "           [137, 138, 139, 140],\n",
       "           [141, 142, 143, 144]]]]])"
      ]
     },
     "execution_count": 86,
     "metadata": {},
     "output_type": "execute_result"
    }
   ],
   "source": [
    "qkv = QKV.view(B,nh,T,3,hd) \n",
    "# everything grouped by batch -> head -> sequence -> QKV matrix\n",
    "qkv"
   ]
  },
  {
   "cell_type": "code",
   "execution_count": 87,
   "metadata": {},
   "outputs": [
    {
     "name": "stdout",
     "output_type": "stream",
     "text": [
      "tensor([[[[  1,   2,   3,   4],\n",
      "          [ 13,  14,  15,  16]],\n",
      "\n",
      "         [[ 25,  26,  27,  28],\n",
      "          [ 37,  38,  39,  40]],\n",
      "\n",
      "         [[ 49,  50,  51,  52],\n",
      "          [ 61,  62,  63,  64]]],\n",
      "\n",
      "\n",
      "        [[[ 73,  74,  75,  76],\n",
      "          [ 85,  86,  87,  88]],\n",
      "\n",
      "         [[ 97,  98,  99, 100],\n",
      "          [109, 110, 111, 112]],\n",
      "\n",
      "         [[121, 122, 123, 124],\n",
      "          [133, 134, 135, 136]]]])\n",
      "torch.Size([2, 3, 2, 4])\n"
     ]
    }
   ],
   "source": [
    "Q = qkv[:,:,:,0,:] # all Q matrices \n",
    "print(Q)\n",
    "print(Q.shape)"
   ]
  },
  {
   "cell_type": "code",
   "execution_count": 88,
   "metadata": {},
   "outputs": [
    {
     "name": "stdout",
     "output_type": "stream",
     "text": [
      "tensor([[[[  5,   6,   7,   8],\n",
      "          [ 17,  18,  19,  20]],\n",
      "\n",
      "         [[ 29,  30,  31,  32],\n",
      "          [ 41,  42,  43,  44]],\n",
      "\n",
      "         [[ 53,  54,  55,  56],\n",
      "          [ 65,  66,  67,  68]]],\n",
      "\n",
      "\n",
      "        [[[ 77,  78,  79,  80],\n",
      "          [ 89,  90,  91,  92]],\n",
      "\n",
      "         [[101, 102, 103, 104],\n",
      "          [113, 114, 115, 116]],\n",
      "\n",
      "         [[125, 126, 127, 128],\n",
      "          [137, 138, 139, 140]]]])\n",
      "torch.Size([2, 3, 2, 4])\n"
     ]
    }
   ],
   "source": [
    "K = qkv[:,:,:,1,:] # all K matrices\n",
    "print(K)\n",
    "print(K.shape)"
   ]
  },
  {
   "cell_type": "code",
   "execution_count": 89,
   "metadata": {},
   "outputs": [
    {
     "name": "stdout",
     "output_type": "stream",
     "text": [
      "tensor([[[[  5,  17],\n",
      "          [  6,  18],\n",
      "          [  7,  19],\n",
      "          [  8,  20]],\n",
      "\n",
      "         [[ 29,  41],\n",
      "          [ 30,  42],\n",
      "          [ 31,  43],\n",
      "          [ 32,  44]],\n",
      "\n",
      "         [[ 53,  65],\n",
      "          [ 54,  66],\n",
      "          [ 55,  67],\n",
      "          [ 56,  68]]],\n",
      "\n",
      "\n",
      "        [[[ 77,  89],\n",
      "          [ 78,  90],\n",
      "          [ 79,  91],\n",
      "          [ 80,  92]],\n",
      "\n",
      "         [[101, 113],\n",
      "          [102, 114],\n",
      "          [103, 115],\n",
      "          [104, 116]],\n",
      "\n",
      "         [[125, 137],\n",
      "          [126, 138],\n",
      "          [127, 139],\n",
      "          [128, 140]]]])\n",
      "torch.Size([2, 3, 4, 2])\n"
     ]
    }
   ],
   "source": [
    "K_T = qkv[:,:,:,1,:].transpose(-2,-1) # all K matrices transposed\n",
    "print(K_T)\n",
    "print(K_T.shape)"
   ]
  },
  {
   "cell_type": "code",
   "execution_count": 90,
   "metadata": {},
   "outputs": [
    {
     "name": "stdout",
     "output_type": "stream",
     "text": [
      "tensor([[[[  9,  10,  11,  12],\n",
      "          [ 21,  22,  23,  24]],\n",
      "\n",
      "         [[ 33,  34,  35,  36],\n",
      "          [ 45,  46,  47,  48]],\n",
      "\n",
      "         [[ 57,  58,  59,  60],\n",
      "          [ 69,  70,  71,  72]]],\n",
      "\n",
      "\n",
      "        [[[ 81,  82,  83,  84],\n",
      "          [ 93,  94,  95,  96]],\n",
      "\n",
      "         [[105, 106, 107, 108],\n",
      "          [117, 118, 119, 120]],\n",
      "\n",
      "         [[129, 130, 131, 132],\n",
      "          [141, 142, 143, 144]]]])\n",
      "torch.Size([2, 3, 2, 4])\n"
     ]
    }
   ],
   "source": [
    "V = qkv[:,:,:,2,:]\n",
    "print(V)\n",
    "print(V.shape)"
   ]
  },
  {
   "cell_type": "code",
   "execution_count": 91,
   "metadata": {},
   "outputs": [
    {
     "name": "stdout",
     "output_type": "stream",
     "text": [
      "tensor([[[[   70,   190],\n",
      "          [  382,  1078]],\n",
      "\n",
      "         [[ 3238,  4510],\n",
      "          [ 4702,  6550]],\n",
      "\n",
      "         [[11014, 13438],\n",
      "          [13630, 16630]]],\n",
      "\n",
      "\n",
      "        [[[23398, 26974],\n",
      "          [27166, 31318]],\n",
      "\n",
      "         [[40390, 45118],\n",
      "          [45310, 50614]],\n",
      "\n",
      "         [[61990, 67870],\n",
      "          [68062, 74518]]]])\n",
      "torch.Size([2, 3, 2, 2])\n"
     ]
    }
   ],
   "source": [
    "AM = Q @ K_T\n",
    "print(AM)\n",
    "print(AM.shape)\n",
    "# goal: [B,nh,T,T]"
   ]
  },
  {
   "cell_type": "code",
   "execution_count": null,
   "metadata": {},
   "outputs": [
    {
     "name": "stdout",
     "output_type": "stream",
     "text": [
      "tensor([[[[1.0000, 0.0000],\n",
      "          [0.4933, 0.5067]],\n",
      "\n",
      "         [[1.0000, 0.0000],\n",
      "          [0.5234, 0.4766]],\n",
      "\n",
      "         [[1.0000, 0.0000],\n",
      "          [0.4966, 0.5034]]],\n",
      "\n",
      "\n",
      "        [[[1.0000, 0.0000],\n",
      "          [0.4833, 0.5167]],\n",
      "\n",
      "         [[1.0000, 0.0000],\n",
      "          [0.5095, 0.4905]],\n",
      "\n",
      "         [[1.0000, 0.0000],\n",
      "          [0.4750, 0.5250]]]])\n",
      "torch.Size([2, 3, 2, 2])\n"
     ]
    }
   ],
   "source": [
    "from math import sqrt \n",
    "\n",
    "AM = AM / sqrt(d) # scale\n",
    "mask = torch.triu(torch.ones_like(AM),diagonal=1).bool()\n",
    "masked_AM = AM.masked_fill(mask,float('-inf'))\n",
    "attn_weights = torch.nn.functional.softmax(masked_AM,dim=-1)\n",
    "out = attn_weights @ V\n",
    "print(attn_weights)\n",
    "print(attn_weights.shape)"
   ]
  },
  {
   "cell_type": "code",
   "execution_count": 82,
   "metadata": {},
   "outputs": [
    {
     "name": "stdout",
     "output_type": "stream",
     "text": [
      "tensor([[[[-0.3034,  0.6861, -0.3266,  0.7071],\n",
      "          [ 1.1179,  0.8013,  0.3003,  0.8634]],\n",
      "\n",
      "         [[-0.6100,  0.3836,  0.2797,  0.1567],\n",
      "          [-0.9549,  0.8888,  0.3955, -0.6993]],\n",
      "\n",
      "         [[ 1.7258, -1.8626, -1.0199, -0.5793],\n",
      "          [-0.5443, -0.8104, -1.4201,  0.1152]]],\n",
      "\n",
      "\n",
      "        [[[ 0.6855, -0.4818,  0.5789, -0.2515],\n",
      "          [ 0.4977, -1.2107,  0.6248, -0.2825]],\n",
      "\n",
      "         [[-1.2388, -0.0442,  0.0299, -0.1188],\n",
      "          [ 1.0769, -0.2042, -0.2424, -1.2177]],\n",
      "\n",
      "         [[-0.5631, -0.5505, -0.3765, -0.9081],\n",
      "          [ 1.4550,  0.9858, -1.1073, -0.8797]]]])\n",
      "torch.Size([2, 3, 2, 4])\n"
     ]
    }
   ],
   "source": [
    "print(V)\n",
    "print(V.shape)"
   ]
  },
  {
   "cell_type": "code",
   "execution_count": 107,
   "metadata": {},
   "outputs": [
    {
     "name": "stdout",
     "output_type": "stream",
     "text": [
      "torch.Size([2, 3, 2, 4])\n"
     ]
    },
    {
     "data": {
      "text/plain": [
       "tensor([[[[-0.3034,  0.6861, -0.3266,  0.7071],\n",
       "          [ 0.4167,  0.7445, -0.0089,  0.7863]],\n",
       "\n",
       "         [[-0.6100,  0.3836,  0.2797,  0.1567],\n",
       "          [-0.7744,  0.6244,  0.3349, -0.2512]],\n",
       "\n",
       "         [[ 1.7258, -1.8626, -1.0199, -0.5793],\n",
       "          [ 0.5831, -1.3329, -1.2214, -0.2297]]],\n",
       "\n",
       "\n",
       "        [[[ 0.6855, -0.4818,  0.5789, -0.2515],\n",
       "          [ 0.5885, -0.8584,  0.6027, -0.2676]],\n",
       "\n",
       "         [[-1.2388, -0.0442,  0.0299, -0.1188],\n",
       "          [-0.1030, -0.1227, -0.1036, -0.6578]],\n",
       "\n",
       "         [[-0.5631, -0.5505, -0.3765, -0.9081],\n",
       "          [ 0.4964,  0.2561, -0.7602, -0.8932]]]])"
      ]
     },
     "execution_count": 107,
     "metadata": {},
     "output_type": "execute_result"
    }
   ],
   "source": [
    "#print(out)\n",
    "print(out.shape)\n",
    "out"
   ]
  },
  {
   "cell_type": "code",
   "execution_count": null,
   "metadata": {},
   "outputs": [
    {
     "name": "stdout",
     "output_type": "stream",
     "text": [
      "torch.Size([2, 2, 3, 4])\n"
     ]
    },
    {
     "data": {
      "text/plain": [
       "tensor([[[[-0.3034,  0.6861, -0.3266,  0.7071],\n",
       "          [-0.6100,  0.3836,  0.2797,  0.1567],\n",
       "          [ 1.7258, -1.8626, -1.0199, -0.5793]],\n",
       "\n",
       "         [[ 0.4167,  0.7445, -0.0089,  0.7863],\n",
       "          [-0.7744,  0.6244,  0.3349, -0.2512],\n",
       "          [ 0.5831, -1.3329, -1.2214, -0.2297]]],\n",
       "\n",
       "\n",
       "        [[[ 0.6855, -0.4818,  0.5789, -0.2515],\n",
       "          [-1.2388, -0.0442,  0.0299, -0.1188],\n",
       "          [-0.5631, -0.5505, -0.3765, -0.9081]],\n",
       "\n",
       "         [[ 0.5885, -0.8584,  0.6027, -0.2676],\n",
       "          [-0.1030, -0.1227, -0.1036, -0.6578],\n",
       "          [ 0.4964,  0.2561, -0.7602, -0.8932]]]])"
      ]
     },
     "execution_count": 113,
     "metadata": {},
     "output_type": "execute_result"
    }
   ],
   "source": [
    "print(out.permute(0,2,1,3).shape)\n",
    "out_permute = out.permute(0,2,1,3) # B, T, nh, hd\n",
    "out_permute\n",
    "#out_test\n",
    "#out_test = out_test.view(B,T,nh*hd)"
   ]
  },
  {
   "cell_type": "code",
   "execution_count": null,
   "metadata": {},
   "outputs": [
    {
     "data": {
      "text/plain": [
       "True"
      ]
     },
     "execution_count": 118,
     "metadata": {},
     "output_type": "execute_result"
    }
   ],
   "source": [
    "out_contig = out_permute.contiguous()\n",
    "out_contig.is_contiguous()"
   ]
  },
  {
   "cell_type": "code",
   "execution_count": 119,
   "metadata": {},
   "outputs": [
    {
     "data": {
      "text/plain": [
       "tensor([[[[-0.3034,  0.6861, -0.3266,  0.7071],\n",
       "          [-0.6100,  0.3836,  0.2797,  0.1567],\n",
       "          [ 1.7258, -1.8626, -1.0199, -0.5793]],\n",
       "\n",
       "         [[ 0.4167,  0.7445, -0.0089,  0.7863],\n",
       "          [-0.7744,  0.6244,  0.3349, -0.2512],\n",
       "          [ 0.5831, -1.3329, -1.2214, -0.2297]]],\n",
       "\n",
       "\n",
       "        [[[ 0.6855, -0.4818,  0.5789, -0.2515],\n",
       "          [-1.2388, -0.0442,  0.0299, -0.1188],\n",
       "          [-0.5631, -0.5505, -0.3765, -0.9081]],\n",
       "\n",
       "         [[ 0.5885, -0.8584,  0.6027, -0.2676],\n",
       "          [-0.1030, -0.1227, -0.1036, -0.6578],\n",
       "          [ 0.4964,  0.2561, -0.7602, -0.8932]]]])"
      ]
     },
     "execution_count": 119,
     "metadata": {},
     "output_type": "execute_result"
    }
   ],
   "source": [
    "out_contig"
   ]
  },
  {
   "cell_type": "code",
   "execution_count": 122,
   "metadata": {},
   "outputs": [
    {
     "name": "stdout",
     "output_type": "stream",
     "text": [
      "torch.Size([2, 2, 12])\n"
     ]
    },
    {
     "data": {
      "text/plain": [
       "tensor([[[-0.3034,  0.6861, -0.3266,  0.7071, -0.6100,  0.3836,  0.2797,\n",
       "           0.1567,  1.7258, -1.8626, -1.0199, -0.5793],\n",
       "         [ 0.4167,  0.7445, -0.0089,  0.7863, -0.7744,  0.6244,  0.3349,\n",
       "          -0.2512,  0.5831, -1.3329, -1.2214, -0.2297]],\n",
       "\n",
       "        [[ 0.6855, -0.4818,  0.5789, -0.2515, -1.2388, -0.0442,  0.0299,\n",
       "          -0.1188, -0.5631, -0.5505, -0.3765, -0.9081],\n",
       "         [ 0.5885, -0.8584,  0.6027, -0.2676, -0.1030, -0.1227, -0.1036,\n",
       "          -0.6578,  0.4964,  0.2561, -0.7602, -0.8932]]])"
      ]
     },
     "execution_count": 122,
     "metadata": {},
     "output_type": "execute_result"
    }
   ],
   "source": [
    "print(out_contig.view(B,T,nh*hd).shape)\n",
    "out_heads_concat = out_contig.view(B,T,nh*hd)\n",
    "out_heads_concat"
   ]
  },
  {
   "cell_type": "code",
   "execution_count": 124,
   "metadata": {},
   "outputs": [
    {
     "name": "stdout",
     "output_type": "stream",
     "text": [
      "torch.Size([2, 2, 3])\n"
     ]
    },
    {
     "data": {
      "text/plain": [
       "tensor([[[-0.0581,  0.3313, -1.2239],\n",
       "         [-0.1983,  0.2745, -0.8868]],\n",
       "\n",
       "        [[-0.2511,  0.2724, -0.1678],\n",
       "         [-0.5068,  0.6644, -0.2228]]], grad_fn=<ViewBackward0>)"
      ]
     },
     "execution_count": 124,
     "metadata": {},
     "output_type": "execute_result"
    }
   ],
   "source": [
    "ll = torch.nn.Linear(nh*hd,d,bias=True)\n",
    "self_attention_out = ll(out_heads_concat)\n",
    "print(self_attention_out.shape)\n",
    "self_attention_out"
   ]
  },
  {
   "cell_type": "code",
   "execution_count": 131,
   "metadata": {},
   "outputs": [
    {
     "data": {
      "text/plain": [
       "0"
      ]
     },
     "execution_count": 131,
     "metadata": {},
     "output_type": "execute_result"
    }
   ],
   "source": [
    "120 % 6"
   ]
  }
 ],
 "metadata": {
  "kernelspec": {
   "display_name": "base",
   "language": "python",
   "name": "python3"
  },
  "language_info": {
   "codemirror_mode": {
    "name": "ipython",
    "version": 3
   },
   "file_extension": ".py",
   "mimetype": "text/x-python",
   "name": "python",
   "nbconvert_exporter": "python",
   "pygments_lexer": "ipython3",
   "version": "3.11.7"
  }
 },
 "nbformat": 4,
 "nbformat_minor": 2
}
